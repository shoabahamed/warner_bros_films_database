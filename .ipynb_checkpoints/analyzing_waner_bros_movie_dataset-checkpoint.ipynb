{
 "cells": [
  {
   "cell_type": "markdown",
   "id": "c5a5de78",
   "metadata": {},
   "source": [
    "<h2>The goal is to analyze the warner_bros_movie_dataset using pandas</h2> "
   ]
  },
  {
   "cell_type": "markdown",
   "id": "3a57d18d",
   "metadata": {},
   "source": [
    "<h3>To see how the data was collected see this notebook <a href='https://github.com/shoabahamed/warner_bros_films_database/blob/main/scapping_warner_bros_films.ipynb'> scapping_warner_bros_films.ipynb</a></h3>\n",
    "<h3>To see how the data was cleaned see this notebook <a href=\"https://github.com/shoabahamed/warner_bros_films_database/blob/main/data_cleaning.ipynb\">data cleaning.ipynb</a></h3>"
   ]
  },
  {
   "cell_type": "code",
   "execution_count": 1,
   "id": "1e441a10",
   "metadata": {},
   "outputs": [],
   "source": [
    "# first lets load the necessary libraray's\n",
    "\n",
    "import pandas as pd\n",
    "import numpy as np\n",
    "import matplotlib.pyplot as plt\n",
    "import seaborn as sns"
   ]
  },
  {
   "cell_type": "code",
   "execution_count": 2,
   "id": "ed97c03e",
   "metadata": {},
   "outputs": [
    {
     "data": {
      "text/html": [
       "<div>\n",
       "<style scoped>\n",
       "    .dataframe tbody tr th:only-of-type {\n",
       "        vertical-align: middle;\n",
       "    }\n",
       "\n",
       "    .dataframe tbody tr th {\n",
       "        vertical-align: top;\n",
       "    }\n",
       "\n",
       "    .dataframe thead th {\n",
       "        text-align: right;\n",
       "    }\n",
       "</style>\n",
       "<table border=\"1\" class=\"dataframe\">\n",
       "  <thead>\n",
       "    <tr style=\"text-align: right;\">\n",
       "      <th></th>\n",
       "      <th>Title</th>\n",
       "      <th>Directed by</th>\n",
       "      <th>Written by</th>\n",
       "      <th>Produced by</th>\n",
       "      <th>Starring</th>\n",
       "      <th>Cinematography</th>\n",
       "      <th>Edited by</th>\n",
       "      <th>Music by</th>\n",
       "      <th>Productioncompanies</th>\n",
       "      <th>Distributed by</th>\n",
       "      <th>...</th>\n",
       "      <th>Hangul</th>\n",
       "      <th>Hanja</th>\n",
       "      <th>Revised Romanization</th>\n",
       "      <th>McCune–Reischauer</th>\n",
       "      <th>Literally</th>\n",
       "      <th>Italian</th>\n",
       "      <th>Traditional</th>\n",
       "      <th>Simplified</th>\n",
       "      <th>Mandarin</th>\n",
       "      <th>Cantonese</th>\n",
       "    </tr>\n",
       "  </thead>\n",
       "  <tbody>\n",
       "    <tr>\n",
       "      <th>0</th>\n",
       "      <td>The Book of Eli</td>\n",
       "      <td>The Hughes Brothers</td>\n",
       "      <td>Gary Whitta</td>\n",
       "      <td>[Joel Silver, Susan Downey, Andrew Kosove, Bro...</td>\n",
       "      <td>[Denzel Washington, Gary Oldman, Mila Kunis, R...</td>\n",
       "      <td>Don Burgess</td>\n",
       "      <td>Cindy Mollo</td>\n",
       "      <td>[Atticus Ross, Leopold Ross, Claudia Sarne]</td>\n",
       "      <td>[Alcon Entertainment, Silver Pictures]</td>\n",
       "      <td>[Warner Bros. Pictures, Summit Entertainment]</td>\n",
       "      <td>...</td>\n",
       "      <td>NaN</td>\n",
       "      <td>NaN</td>\n",
       "      <td>NaN</td>\n",
       "      <td>NaN</td>\n",
       "      <td>NaN</td>\n",
       "      <td>NaN</td>\n",
       "      <td>NaN</td>\n",
       "      <td>NaN</td>\n",
       "      <td>NaN</td>\n",
       "      <td>NaN</td>\n",
       "    </tr>\n",
       "    <tr>\n",
       "      <th>1</th>\n",
       "      <td>Edge of Darkness</td>\n",
       "      <td>Martin Campbell</td>\n",
       "      <td>[William Monahan, Andrew Bovell]</td>\n",
       "      <td>[Graham King, Tim Headington, Michael Wearing]</td>\n",
       "      <td>[Mel Gibson, Ray Winstone, Danny Huston, Bojan...</td>\n",
       "      <td>Phil Meheux</td>\n",
       "      <td>Stuart Baird</td>\n",
       "      <td>Howard Shore</td>\n",
       "      <td>[GK Films, BBC Films, Icon Productions]</td>\n",
       "      <td>[Icon Film Distribution, Warner Bros. Pictures]</td>\n",
       "      <td>...</td>\n",
       "      <td>NaN</td>\n",
       "      <td>NaN</td>\n",
       "      <td>NaN</td>\n",
       "      <td>NaN</td>\n",
       "      <td>NaN</td>\n",
       "      <td>NaN</td>\n",
       "      <td>NaN</td>\n",
       "      <td>NaN</td>\n",
       "      <td>NaN</td>\n",
       "      <td>NaN</td>\n",
       "    </tr>\n",
       "    <tr>\n",
       "      <th>2</th>\n",
       "      <td>Valentine's Day</td>\n",
       "      <td>Garry Marshall</td>\n",
       "      <td>NaN</td>\n",
       "      <td>[Mike Karz, Wayne Allan Rice]</td>\n",
       "      <td>[Jessica Alba, Kathy Bates, Jessica Biel, Brad...</td>\n",
       "      <td>Charles Minsky</td>\n",
       "      <td>Bruce Green</td>\n",
       "      <td>John Debney</td>\n",
       "      <td>[New Line Cinema, Wayne Rice Films, Karz Enter...</td>\n",
       "      <td>Warner Bros. Pictures</td>\n",
       "      <td>...</td>\n",
       "      <td>NaN</td>\n",
       "      <td>NaN</td>\n",
       "      <td>NaN</td>\n",
       "      <td>NaN</td>\n",
       "      <td>NaN</td>\n",
       "      <td>NaN</td>\n",
       "      <td>NaN</td>\n",
       "      <td>NaN</td>\n",
       "      <td>NaN</td>\n",
       "      <td>NaN</td>\n",
       "    </tr>\n",
       "  </tbody>\n",
       "</table>\n",
       "<p>3 rows × 44 columns</p>\n",
       "</div>"
      ],
      "text/plain": [
       "              Title          Directed by                        Written by  \\\n",
       "0   The Book of Eli  The Hughes Brothers                       Gary Whitta   \n",
       "1  Edge of Darkness      Martin Campbell  [William Monahan, Andrew Bovell]   \n",
       "2   Valentine's Day       Garry Marshall                               NaN   \n",
       "\n",
       "                                         Produced by  \\\n",
       "0  [Joel Silver, Susan Downey, Andrew Kosove, Bro...   \n",
       "1     [Graham King, Tim Headington, Michael Wearing]   \n",
       "2                      [Mike Karz, Wayne Allan Rice]   \n",
       "\n",
       "                                            Starring  Cinematography  \\\n",
       "0  [Denzel Washington, Gary Oldman, Mila Kunis, R...     Don Burgess   \n",
       "1  [Mel Gibson, Ray Winstone, Danny Huston, Bojan...     Phil Meheux   \n",
       "2  [Jessica Alba, Kathy Bates, Jessica Biel, Brad...  Charles Minsky   \n",
       "\n",
       "      Edited by                                     Music by  \\\n",
       "0   Cindy Mollo  [Atticus Ross, Leopold Ross, Claudia Sarne]   \n",
       "1  Stuart Baird                                 Howard Shore   \n",
       "2   Bruce Green                                  John Debney   \n",
       "\n",
       "                                 Productioncompanies  \\\n",
       "0             [Alcon Entertainment, Silver Pictures]   \n",
       "1            [GK Films, BBC Films, Icon Productions]   \n",
       "2  [New Line Cinema, Wayne Rice Films, Karz Enter...   \n",
       "\n",
       "                                    Distributed by  ... Hangul Hanja  \\\n",
       "0    [Warner Bros. Pictures, Summit Entertainment]  ...    NaN   NaN   \n",
       "1  [Icon Film Distribution, Warner Bros. Pictures]  ...    NaN   NaN   \n",
       "2                            Warner Bros. Pictures  ...    NaN   NaN   \n",
       "\n",
       "  Revised Romanization McCune–Reischauer Literally Italian  Traditional  \\\n",
       "0                  NaN               NaN       NaN     NaN          NaN   \n",
       "1                  NaN               NaN       NaN     NaN          NaN   \n",
       "2                  NaN               NaN       NaN     NaN          NaN   \n",
       "\n",
       "  Simplified Mandarin Cantonese  \n",
       "0        NaN      NaN       NaN  \n",
       "1        NaN      NaN       NaN  \n",
       "2        NaN      NaN       NaN  \n",
       "\n",
       "[3 rows x 44 columns]"
      ]
     },
     "execution_count": 2,
     "metadata": {},
     "output_type": "execute_result"
    }
   ],
   "source": [
    "# now load the dataset with pandas read_json method\n",
    "\n",
    "df = pd.read_json('./files/warner_bros_movie_dataset(cleaned).json')\n",
    "df.head(3)"
   ]
  },
  {
   "cell_type": "code",
   "execution_count": 3,
   "id": "613fd4ca",
   "metadata": {},
   "outputs": [
    {
     "name": "stdout",
     "output_type": "stream",
     "text": [
      "We have 335 rows and 44 columns\n"
     ]
    }
   ],
   "source": [
    "print(f'We have {df.shape[0]} rows and {df.shape[1]} columns')"
   ]
  },
  {
   "cell_type": "markdown",
   "id": "aa57a9c9",
   "metadata": {},
   "source": [
    "<p>now lets see what are these columns</p>"
   ]
  },
  {
   "cell_type": "code",
   "execution_count": 4,
   "id": "b9a12aea",
   "metadata": {},
   "outputs": [
    {
     "name": "stdout",
     "output_type": "stream",
     "text": [
      "Index(['Title', 'Directed by', 'Written by', 'Produced by', 'Starring',\n",
      "       'Cinematography', 'Edited by', 'Music by', 'Productioncompanies',\n",
      "       'Distributed by', 'Country', 'Language', 'ImdbRating', 'MetaScore',\n",
      "       'ImdbVotes', 'Rotten Tomatoes', 'Running Time(min)', 'Release Date',\n",
      "       'Budget(dollar)', 'box_office(dollar)', 'Based on', 'Countries',\n",
      "       'Screenplay by', 'Story by', 'Productioncompany', 'Narrated by',\n",
      "       'Languages', 'French', 'Spanish', 'German', 'Dutch', 'Japanese',\n",
      "       'Hepburn', 'Turkish', 'Hangul', 'Hanja', 'Revised Romanization',\n",
      "       'McCune–Reischauer', 'Literally', 'Italian', 'Traditional',\n",
      "       'Simplified', 'Mandarin', 'Cantonese'],\n",
      "      dtype='object')\n"
     ]
    }
   ],
   "source": [
    "print(df.columns)"
   ]
  },
  {
   "cell_type": "code",
   "execution_count": 5,
   "id": "c2e5faee",
   "metadata": {},
   "outputs": [
    {
     "name": "stdout",
     "output_type": "stream",
     "text": [
      "[nan \"L'Illusionniste\" 'Nicostratos le pélican']\n",
      "[nan 'Báishé: Yuánqǐ']\n",
      "[nan '']\n"
     ]
    }
   ],
   "source": [
    "print(df['French'].unique())\n",
    "print(df['Mandarin'].unique())\n",
    "print(df['Simplified'].unique())"
   ]
  },
  {
   "cell_type": "code",
   "execution_count": 6,
   "id": "b17d8fdd",
   "metadata": {},
   "outputs": [
    {
     "data": {
      "text/plain": [
       "Title                     0\n",
       "Directed by               1\n",
       "Written by              161\n",
       "Produced by              26\n",
       "Starring                  7\n",
       "Cinematography           39\n",
       "Edited by                37\n",
       "Music by                 27\n",
       "Productioncompanies      64\n",
       "Distributed by            7\n",
       "Country                  87\n",
       "Language                 29\n",
       "ImdbRating                0\n",
       "MetaScore                 0\n",
       "ImdbVotes                 0\n",
       "Rotten Tomatoes           0\n",
       "Running Time(min)        11\n",
       "Release Date              0\n",
       "Budget(dollar)            0\n",
       "box_office(dollar)        0\n",
       "Based on                169\n",
       "Countries               248\n",
       "Screenplay by           183\n",
       "Story by                258\n",
       "Productioncompany       289\n",
       "Narrated by             329\n",
       "Languages               308\n",
       "French                  333\n",
       "Spanish                 319\n",
       "German                  333\n",
       "Dutch                   334\n",
       "Japanese                326\n",
       "Hepburn                 331\n",
       "Turkish                 334\n",
       "Hangul                  334\n",
       "Hanja                   334\n",
       "Revised Romanization    334\n",
       "McCune–Reischauer       334\n",
       "Literally               333\n",
       "Italian                 334\n",
       "Traditional             334\n",
       "Simplified              334\n",
       "Mandarin                334\n",
       "Cantonese               334\n",
       "dtype: int64"
      ]
     },
     "execution_count": 6,
     "metadata": {},
     "output_type": "execute_result"
    }
   ],
   "source": [
    "df.isnull().sum()"
   ]
  },
  {
   "cell_type": "markdown",
   "id": "fe29cff1",
   "metadata": {},
   "source": [
    "<h3>We can see that a lot of these columns does not have any useful information or any information.\n",
    "   <br> They were probably added without any intention during the data collection part.From the 335 movie list perhaps only one two movie has this columns</h3>"
   ]
  },
  {
   "cell_type": "markdown",
   "id": "ac07f681",
   "metadata": {},
   "source": [
    "<h3>Lets delete these columns first and only keep the ones which we may need</h3>"
   ]
  },
  {
   "cell_type": "code",
   "execution_count": 7,
   "id": "864f6fb1",
   "metadata": {},
   "outputs": [],
   "source": [
    "# Here we are saying if any colums does not have atleast 100 non NAN values the discard them\n",
    "df1 = df.dropna(axis=1, thresh=100)"
   ]
  },
  {
   "cell_type": "code",
   "execution_count": 8,
   "id": "0f129b55",
   "metadata": {},
   "outputs": [
    {
     "data": {
      "text/plain": [
       "(335, 22)"
      ]
     },
     "execution_count": 8,
     "metadata": {},
     "output_type": "execute_result"
    }
   ],
   "source": [
    "df1.shape"
   ]
  },
  {
   "cell_type": "code",
   "execution_count": 9,
   "id": "a42234de",
   "metadata": {},
   "outputs": [
    {
     "data": {
      "text/html": [
       "<div>\n",
       "<style scoped>\n",
       "    .dataframe tbody tr th:only-of-type {\n",
       "        vertical-align: middle;\n",
       "    }\n",
       "\n",
       "    .dataframe tbody tr th {\n",
       "        vertical-align: top;\n",
       "    }\n",
       "\n",
       "    .dataframe thead th {\n",
       "        text-align: right;\n",
       "    }\n",
       "</style>\n",
       "<table border=\"1\" class=\"dataframe\">\n",
       "  <thead>\n",
       "    <tr style=\"text-align: right;\">\n",
       "      <th></th>\n",
       "      <th>Title</th>\n",
       "      <th>Directed by</th>\n",
       "      <th>Written by</th>\n",
       "      <th>Produced by</th>\n",
       "      <th>Starring</th>\n",
       "      <th>Cinematography</th>\n",
       "      <th>Edited by</th>\n",
       "      <th>Music by</th>\n",
       "      <th>Productioncompanies</th>\n",
       "      <th>Distributed by</th>\n",
       "      <th>...</th>\n",
       "      <th>ImdbRating</th>\n",
       "      <th>MetaScore</th>\n",
       "      <th>ImdbVotes</th>\n",
       "      <th>Rotten Tomatoes</th>\n",
       "      <th>Running Time(min)</th>\n",
       "      <th>Release Date</th>\n",
       "      <th>Budget(dollar)</th>\n",
       "      <th>box_office(dollar)</th>\n",
       "      <th>Based on</th>\n",
       "      <th>Screenplay by</th>\n",
       "    </tr>\n",
       "  </thead>\n",
       "  <tbody>\n",
       "    <tr>\n",
       "      <th>0</th>\n",
       "      <td>The Book of Eli</td>\n",
       "      <td>The Hughes Brothers</td>\n",
       "      <td>Gary Whitta</td>\n",
       "      <td>[Joel Silver, Susan Downey, Andrew Kosove, Bro...</td>\n",
       "      <td>[Denzel Washington, Gary Oldman, Mila Kunis, R...</td>\n",
       "      <td>Don Burgess</td>\n",
       "      <td>Cindy Mollo</td>\n",
       "      <td>[Atticus Ross, Leopold Ross, Claudia Sarne]</td>\n",
       "      <td>[Alcon Entertainment, Silver Pictures]</td>\n",
       "      <td>[Warner Bros. Pictures, Summit Entertainment]</td>\n",
       "      <td>...</td>\n",
       "      <td>6.8</td>\n",
       "      <td>53</td>\n",
       "      <td>314,016</td>\n",
       "      <td>47%</td>\n",
       "      <td>117.0</td>\n",
       "      <td>January15,2010</td>\n",
       "      <td>80000000.0</td>\n",
       "      <td>157100000.0</td>\n",
       "      <td>NaN</td>\n",
       "      <td>NaN</td>\n",
       "    </tr>\n",
       "    <tr>\n",
       "      <th>1</th>\n",
       "      <td>Edge of Darkness</td>\n",
       "      <td>Martin Campbell</td>\n",
       "      <td>[William Monahan, Andrew Bovell]</td>\n",
       "      <td>[Graham King, Tim Headington, Michael Wearing]</td>\n",
       "      <td>[Mel Gibson, Ray Winstone, Danny Huston, Bojan...</td>\n",
       "      <td>Phil Meheux</td>\n",
       "      <td>Stuart Baird</td>\n",
       "      <td>Howard Shore</td>\n",
       "      <td>[GK Films, BBC Films, Icon Productions]</td>\n",
       "      <td>[Icon Film Distribution, Warner Bros. Pictures]</td>\n",
       "      <td>...</td>\n",
       "      <td>6.6</td>\n",
       "      <td>55</td>\n",
       "      <td>94,198</td>\n",
       "      <td>55%</td>\n",
       "      <td>117.0</td>\n",
       "      <td>January29,2010</td>\n",
       "      <td>80000000.0</td>\n",
       "      <td>81100000.0</td>\n",
       "      <td>Edge of Darkness,by,Troy Kennedy Martin</td>\n",
       "      <td>NaN</td>\n",
       "    </tr>\n",
       "    <tr>\n",
       "      <th>2</th>\n",
       "      <td>Valentine's Day</td>\n",
       "      <td>Garry Marshall</td>\n",
       "      <td>NaN</td>\n",
       "      <td>[Mike Karz, Wayne Allan Rice]</td>\n",
       "      <td>[Jessica Alba, Kathy Bates, Jessica Biel, Brad...</td>\n",
       "      <td>Charles Minsky</td>\n",
       "      <td>Bruce Green</td>\n",
       "      <td>John Debney</td>\n",
       "      <td>[New Line Cinema, Wayne Rice Films, Karz Enter...</td>\n",
       "      <td>Warner Bros. Pictures</td>\n",
       "      <td>...</td>\n",
       "      <td>5.7</td>\n",
       "      <td>34</td>\n",
       "      <td>119,426</td>\n",
       "      <td>18%</td>\n",
       "      <td>125.0</td>\n",
       "      <td>February12,2010</td>\n",
       "      <td>52000000.0</td>\n",
       "      <td>216500000.0</td>\n",
       "      <td>NaN</td>\n",
       "      <td>Katherine Fugate</td>\n",
       "    </tr>\n",
       "  </tbody>\n",
       "</table>\n",
       "<p>3 rows × 22 columns</p>\n",
       "</div>"
      ],
      "text/plain": [
       "              Title          Directed by                        Written by  \\\n",
       "0   The Book of Eli  The Hughes Brothers                       Gary Whitta   \n",
       "1  Edge of Darkness      Martin Campbell  [William Monahan, Andrew Bovell]   \n",
       "2   Valentine's Day       Garry Marshall                               NaN   \n",
       "\n",
       "                                         Produced by  \\\n",
       "0  [Joel Silver, Susan Downey, Andrew Kosove, Bro...   \n",
       "1     [Graham King, Tim Headington, Michael Wearing]   \n",
       "2                      [Mike Karz, Wayne Allan Rice]   \n",
       "\n",
       "                                            Starring  Cinematography  \\\n",
       "0  [Denzel Washington, Gary Oldman, Mila Kunis, R...     Don Burgess   \n",
       "1  [Mel Gibson, Ray Winstone, Danny Huston, Bojan...     Phil Meheux   \n",
       "2  [Jessica Alba, Kathy Bates, Jessica Biel, Brad...  Charles Minsky   \n",
       "\n",
       "      Edited by                                     Music by  \\\n",
       "0   Cindy Mollo  [Atticus Ross, Leopold Ross, Claudia Sarne]   \n",
       "1  Stuart Baird                                 Howard Shore   \n",
       "2   Bruce Green                                  John Debney   \n",
       "\n",
       "                                 Productioncompanies  \\\n",
       "0             [Alcon Entertainment, Silver Pictures]   \n",
       "1            [GK Films, BBC Films, Icon Productions]   \n",
       "2  [New Line Cinema, Wayne Rice Films, Karz Enter...   \n",
       "\n",
       "                                    Distributed by  ... ImdbRating MetaScore  \\\n",
       "0    [Warner Bros. Pictures, Summit Entertainment]  ...        6.8        53   \n",
       "1  [Icon Film Distribution, Warner Bros. Pictures]  ...        6.6        55   \n",
       "2                            Warner Bros. Pictures  ...        5.7        34   \n",
       "\n",
       "  ImdbVotes Rotten Tomatoes Running Time(min)     Release Date  \\\n",
       "0   314,016             47%             117.0   January15,2010   \n",
       "1    94,198             55%             117.0   January29,2010   \n",
       "2   119,426             18%             125.0  February12,2010   \n",
       "\n",
       "   Budget(dollar) box_office(dollar)                                 Based on  \\\n",
       "0      80000000.0        157100000.0                                      NaN   \n",
       "1      80000000.0         81100000.0  Edge of Darkness,by,Troy Kennedy Martin   \n",
       "2      52000000.0        216500000.0                                      NaN   \n",
       "\n",
       "      Screenplay by  \n",
       "0               NaN  \n",
       "1               NaN  \n",
       "2  Katherine Fugate  \n",
       "\n",
       "[3 rows x 22 columns]"
      ]
     },
     "execution_count": 9,
     "metadata": {},
     "output_type": "execute_result"
    }
   ],
   "source": [
    "df1.head(3)"
   ]
  },
  {
   "cell_type": "markdown",
   "id": "ac2f9441",
   "metadata": {},
   "source": [
    "<p>now lets see how much non null values our data has</p>"
   ]
  },
  {
   "cell_type": "code",
   "execution_count": 10,
   "id": "e88a538b",
   "metadata": {},
   "outputs": [
    {
     "data": {
      "text/plain": [
       "Title                    0\n",
       "Directed by              1\n",
       "Written by             161\n",
       "Produced by             26\n",
       "Starring                 7\n",
       "Cinematography          39\n",
       "Edited by               37\n",
       "Music by                27\n",
       "Productioncompanies     64\n",
       "Distributed by           7\n",
       "Country                 87\n",
       "Language                29\n",
       "ImdbRating               0\n",
       "MetaScore                0\n",
       "ImdbVotes                0\n",
       "Rotten Tomatoes          0\n",
       "Running Time(min)       11\n",
       "Release Date             0\n",
       "Budget(dollar)           0\n",
       "box_office(dollar)       0\n",
       "Based on               169\n",
       "Screenplay by          183\n",
       "dtype: int64"
      ]
     },
     "execution_count": 10,
     "metadata": {},
     "output_type": "execute_result"
    }
   ],
   "source": [
    "df1.isnull().sum()"
   ]
  },
  {
   "cell_type": "markdown",
   "id": "6a8cb747",
   "metadata": {},
   "source": [
    "<p>To see how much data we are missing we can do this</p>"
   ]
  },
  {
   "cell_type": "code",
   "execution_count": 11,
   "id": "3f4485f0",
   "metadata": {},
   "outputs": [
    {
     "name": "stdout",
     "output_type": "stream",
     "text": [
      "We are missing 11.51% data\n"
     ]
    }
   ],
   "source": [
    "def show_missing_percentage(df):\n",
    "    total_cells = df.shape[0] * df.shape[1]\n",
    "    missing_cells = df.isnull().sum().sum()\n",
    "\n",
    "    print(f\"We are missing {round((missing_cells/total_cells), 4) * 100}% data\")\n",
    "    \n",
    "show_missing_percentage(df1)"
   ]
  },
  {
   "cell_type": "code",
   "execution_count": 12,
   "id": "6f4aabbf",
   "metadata": {},
   "outputs": [
    {
     "data": {
      "text/html": [
       "<div>\n",
       "<style scoped>\n",
       "    .dataframe tbody tr th:only-of-type {\n",
       "        vertical-align: middle;\n",
       "    }\n",
       "\n",
       "    .dataframe tbody tr th {\n",
       "        vertical-align: top;\n",
       "    }\n",
       "\n",
       "    .dataframe thead th {\n",
       "        text-align: right;\n",
       "    }\n",
       "</style>\n",
       "<table border=\"1\" class=\"dataframe\">\n",
       "  <thead>\n",
       "    <tr style=\"text-align: right;\">\n",
       "      <th></th>\n",
       "      <th>Title</th>\n",
       "      <th>Directed by</th>\n",
       "      <th>Written by</th>\n",
       "      <th>Produced by</th>\n",
       "      <th>Starring</th>\n",
       "      <th>Cinematography</th>\n",
       "      <th>Edited by</th>\n",
       "      <th>Music by</th>\n",
       "      <th>Productioncompanies</th>\n",
       "      <th>Distributed by</th>\n",
       "      <th>...</th>\n",
       "      <th>ImdbRating</th>\n",
       "      <th>MetaScore</th>\n",
       "      <th>ImdbVotes</th>\n",
       "      <th>Rotten Tomatoes</th>\n",
       "      <th>Running Time(min)</th>\n",
       "      <th>Release Date</th>\n",
       "      <th>Budget(dollar)</th>\n",
       "      <th>box_office(dollar)</th>\n",
       "      <th>Based on</th>\n",
       "      <th>Screenplay by</th>\n",
       "    </tr>\n",
       "  </thead>\n",
       "  <tbody>\n",
       "    <tr>\n",
       "      <th>0</th>\n",
       "      <td>The Book of Eli</td>\n",
       "      <td>The Hughes Brothers</td>\n",
       "      <td>Gary Whitta</td>\n",
       "      <td>[Joel Silver, Susan Downey, Andrew Kosove, Bro...</td>\n",
       "      <td>[Denzel Washington, Gary Oldman, Mila Kunis, R...</td>\n",
       "      <td>Don Burgess</td>\n",
       "      <td>Cindy Mollo</td>\n",
       "      <td>[Atticus Ross, Leopold Ross, Claudia Sarne]</td>\n",
       "      <td>[Alcon Entertainment, Silver Pictures]</td>\n",
       "      <td>[Warner Bros. Pictures, Summit Entertainment]</td>\n",
       "      <td>...</td>\n",
       "      <td>6.8</td>\n",
       "      <td>53</td>\n",
       "      <td>314,016</td>\n",
       "      <td>47%</td>\n",
       "      <td>117.0</td>\n",
       "      <td>January15,2010</td>\n",
       "      <td>80000000.0</td>\n",
       "      <td>157100000.0</td>\n",
       "      <td>NaN</td>\n",
       "      <td>NaN</td>\n",
       "    </tr>\n",
       "    <tr>\n",
       "      <th>1</th>\n",
       "      <td>Edge of Darkness</td>\n",
       "      <td>Martin Campbell</td>\n",
       "      <td>[William Monahan, Andrew Bovell]</td>\n",
       "      <td>[Graham King, Tim Headington, Michael Wearing]</td>\n",
       "      <td>[Mel Gibson, Ray Winstone, Danny Huston, Bojan...</td>\n",
       "      <td>Phil Meheux</td>\n",
       "      <td>Stuart Baird</td>\n",
       "      <td>Howard Shore</td>\n",
       "      <td>[GK Films, BBC Films, Icon Productions]</td>\n",
       "      <td>[Icon Film Distribution, Warner Bros. Pictures]</td>\n",
       "      <td>...</td>\n",
       "      <td>6.6</td>\n",
       "      <td>55</td>\n",
       "      <td>94,198</td>\n",
       "      <td>55%</td>\n",
       "      <td>117.0</td>\n",
       "      <td>January29,2010</td>\n",
       "      <td>80000000.0</td>\n",
       "      <td>81100000.0</td>\n",
       "      <td>Edge of Darkness,by,Troy Kennedy Martin</td>\n",
       "      <td>NaN</td>\n",
       "    </tr>\n",
       "    <tr>\n",
       "      <th>2</th>\n",
       "      <td>Valentine's Day</td>\n",
       "      <td>Garry Marshall</td>\n",
       "      <td>NaN</td>\n",
       "      <td>[Mike Karz, Wayne Allan Rice]</td>\n",
       "      <td>[Jessica Alba, Kathy Bates, Jessica Biel, Brad...</td>\n",
       "      <td>Charles Minsky</td>\n",
       "      <td>Bruce Green</td>\n",
       "      <td>John Debney</td>\n",
       "      <td>[New Line Cinema, Wayne Rice Films, Karz Enter...</td>\n",
       "      <td>Warner Bros. Pictures</td>\n",
       "      <td>...</td>\n",
       "      <td>5.7</td>\n",
       "      <td>34</td>\n",
       "      <td>119,426</td>\n",
       "      <td>18%</td>\n",
       "      <td>125.0</td>\n",
       "      <td>February12,2010</td>\n",
       "      <td>52000000.0</td>\n",
       "      <td>216500000.0</td>\n",
       "      <td>NaN</td>\n",
       "      <td>Katherine Fugate</td>\n",
       "    </tr>\n",
       "    <tr>\n",
       "      <th>3</th>\n",
       "      <td>Cop Out</td>\n",
       "      <td>Kevin Smith</td>\n",
       "      <td>[Robb Cullen, Mark Cullen]</td>\n",
       "      <td>[Marc Platt, Polly Johnsen, Michael Tadross]</td>\n",
       "      <td>[Bruce Willis, Tracy Morgan, Adam Brody, Kevin...</td>\n",
       "      <td>Dave Klein</td>\n",
       "      <td>Kevin Smith</td>\n",
       "      <td>Harold Faltermeyer</td>\n",
       "      <td>NaN</td>\n",
       "      <td>Warner Bros. Pictures</td>\n",
       "      <td>...</td>\n",
       "      <td>5.6</td>\n",
       "      <td>31</td>\n",
       "      <td>87,845</td>\n",
       "      <td>18%</td>\n",
       "      <td>107.0</td>\n",
       "      <td>February26,2010</td>\n",
       "      <td>30000000.0</td>\n",
       "      <td>55600000.0</td>\n",
       "      <td>NaN</td>\n",
       "      <td>NaN</td>\n",
       "    </tr>\n",
       "    <tr>\n",
       "      <th>4</th>\n",
       "      <td>Atithi Tum Kab Jaoge</td>\n",
       "      <td>Ashwni Dhir</td>\n",
       "      <td>NaN</td>\n",
       "      <td>Amita Pathak</td>\n",
       "      <td>[Ajay Devgn, Paresh Rawal, Konkona Sen Sharma]</td>\n",
       "      <td>Aseem Bajaj</td>\n",
       "      <td>Dharmendra Sharma</td>\n",
       "      <td>[Songs:, Pritam, Amit Mishra, Background Score...</td>\n",
       "      <td>NaN</td>\n",
       "      <td>[Warner Bros. Pictures, Wide Frame Pictures]</td>\n",
       "      <td>...</td>\n",
       "      <td>6.4</td>\n",
       "      <td>N/A</td>\n",
       "      <td>6,016</td>\n",
       "      <td>NAN</td>\n",
       "      <td>115.0</td>\n",
       "      <td>5March2010</td>\n",
       "      <td>NAN</td>\n",
       "      <td>NAN</td>\n",
       "      <td>Tum Kab Jaoge Atithi by,Sharad Joshi</td>\n",
       "      <td>[Tushar Hiranandani, Robin Bhatt]</td>\n",
       "    </tr>\n",
       "  </tbody>\n",
       "</table>\n",
       "<p>5 rows × 22 columns</p>\n",
       "</div>"
      ],
      "text/plain": [
       "                  Title          Directed by  \\\n",
       "0       The Book of Eli  The Hughes Brothers   \n",
       "1      Edge of Darkness      Martin Campbell   \n",
       "2       Valentine's Day       Garry Marshall   \n",
       "3               Cop Out          Kevin Smith   \n",
       "4  Atithi Tum Kab Jaoge          Ashwni Dhir   \n",
       "\n",
       "                         Written by  \\\n",
       "0                       Gary Whitta   \n",
       "1  [William Monahan, Andrew Bovell]   \n",
       "2                               NaN   \n",
       "3        [Robb Cullen, Mark Cullen]   \n",
       "4                               NaN   \n",
       "\n",
       "                                         Produced by  \\\n",
       "0  [Joel Silver, Susan Downey, Andrew Kosove, Bro...   \n",
       "1     [Graham King, Tim Headington, Michael Wearing]   \n",
       "2                      [Mike Karz, Wayne Allan Rice]   \n",
       "3       [Marc Platt, Polly Johnsen, Michael Tadross]   \n",
       "4                                       Amita Pathak   \n",
       "\n",
       "                                            Starring  Cinematography  \\\n",
       "0  [Denzel Washington, Gary Oldman, Mila Kunis, R...     Don Burgess   \n",
       "1  [Mel Gibson, Ray Winstone, Danny Huston, Bojan...     Phil Meheux   \n",
       "2  [Jessica Alba, Kathy Bates, Jessica Biel, Brad...  Charles Minsky   \n",
       "3  [Bruce Willis, Tracy Morgan, Adam Brody, Kevin...      Dave Klein   \n",
       "4     [Ajay Devgn, Paresh Rawal, Konkona Sen Sharma]     Aseem Bajaj   \n",
       "\n",
       "           Edited by                                           Music by  \\\n",
       "0        Cindy Mollo        [Atticus Ross, Leopold Ross, Claudia Sarne]   \n",
       "1       Stuart Baird                                       Howard Shore   \n",
       "2        Bruce Green                                        John Debney   \n",
       "3        Kevin Smith                                 Harold Faltermeyer   \n",
       "4  Dharmendra Sharma  [Songs:, Pritam, Amit Mishra, Background Score...   \n",
       "\n",
       "                                 Productioncompanies  \\\n",
       "0             [Alcon Entertainment, Silver Pictures]   \n",
       "1            [GK Films, BBC Films, Icon Productions]   \n",
       "2  [New Line Cinema, Wayne Rice Films, Karz Enter...   \n",
       "3                                                NaN   \n",
       "4                                                NaN   \n",
       "\n",
       "                                    Distributed by  ... ImdbRating MetaScore  \\\n",
       "0    [Warner Bros. Pictures, Summit Entertainment]  ...        6.8        53   \n",
       "1  [Icon Film Distribution, Warner Bros. Pictures]  ...        6.6        55   \n",
       "2                            Warner Bros. Pictures  ...        5.7        34   \n",
       "3                            Warner Bros. Pictures  ...        5.6        31   \n",
       "4     [Warner Bros. Pictures, Wide Frame Pictures]  ...        6.4       N/A   \n",
       "\n",
       "  ImdbVotes Rotten Tomatoes Running Time(min)     Release Date  \\\n",
       "0   314,016             47%             117.0   January15,2010   \n",
       "1    94,198             55%             117.0   January29,2010   \n",
       "2   119,426             18%             125.0  February12,2010   \n",
       "3    87,845             18%             107.0  February26,2010   \n",
       "4     6,016             NAN             115.0       5March2010   \n",
       "\n",
       "   Budget(dollar) box_office(dollar)                                 Based on  \\\n",
       "0      80000000.0        157100000.0                                      NaN   \n",
       "1      80000000.0         81100000.0  Edge of Darkness,by,Troy Kennedy Martin   \n",
       "2      52000000.0        216500000.0                                      NaN   \n",
       "3      30000000.0         55600000.0                                      NaN   \n",
       "4             NAN                NAN     Tum Kab Jaoge Atithi by,Sharad Joshi   \n",
       "\n",
       "                       Screenplay by  \n",
       "0                                NaN  \n",
       "1                                NaN  \n",
       "2                   Katherine Fugate  \n",
       "3                                NaN  \n",
       "4  [Tushar Hiranandani, Robin Bhatt]  \n",
       "\n",
       "[5 rows x 22 columns]"
      ]
     },
     "execution_count": 12,
     "metadata": {},
     "output_type": "execute_result"
    }
   ],
   "source": [
    "df1.head()"
   ]
  },
  {
   "cell_type": "markdown",
   "id": "b6f41969",
   "metadata": {},
   "source": [
    "<p> To tackle this problem what we can do is that --</p>\n",
    "<ol>\n",
    "    <li>Remove the rows which has null values</li>\n",
    "    <li>fill in the na values using</li>\n",
    "</ol>"
   ]
  },
  {
   "cell_type": "code",
   "execution_count": 13,
   "id": "1eed02f9",
   "metadata": {},
   "outputs": [
    {
     "data": {
      "text/html": [
       "<div>\n",
       "<style scoped>\n",
       "    .dataframe tbody tr th:only-of-type {\n",
       "        vertical-align: middle;\n",
       "    }\n",
       "\n",
       "    .dataframe tbody tr th {\n",
       "        vertical-align: top;\n",
       "    }\n",
       "\n",
       "    .dataframe thead th {\n",
       "        text-align: right;\n",
       "    }\n",
       "</style>\n",
       "<table border=\"1\" class=\"dataframe\">\n",
       "  <thead>\n",
       "    <tr style=\"text-align: right;\">\n",
       "      <th></th>\n",
       "      <th>Title</th>\n",
       "      <th>Directed by</th>\n",
       "      <th>Written by</th>\n",
       "      <th>Produced by</th>\n",
       "      <th>Starring</th>\n",
       "      <th>Cinematography</th>\n",
       "      <th>Edited by</th>\n",
       "      <th>Music by</th>\n",
       "      <th>Productioncompanies</th>\n",
       "      <th>Distributed by</th>\n",
       "      <th>...</th>\n",
       "      <th>ImdbRating</th>\n",
       "      <th>MetaScore</th>\n",
       "      <th>ImdbVotes</th>\n",
       "      <th>Rotten Tomatoes</th>\n",
       "      <th>Running Time(min)</th>\n",
       "      <th>Release Date</th>\n",
       "      <th>Budget(dollar)</th>\n",
       "      <th>box_office(dollar)</th>\n",
       "      <th>Based on</th>\n",
       "      <th>Screenplay by</th>\n",
       "    </tr>\n",
       "  </thead>\n",
       "  <tbody>\n",
       "  </tbody>\n",
       "</table>\n",
       "<p>0 rows × 22 columns</p>\n",
       "</div>"
      ],
      "text/plain": [
       "Empty DataFrame\n",
       "Columns: [Title, Directed by, Written by, Produced by, Starring, Cinematography, Edited by, Music by, Productioncompanies, Distributed by, Country, Language, ImdbRating, MetaScore, ImdbVotes, Rotten Tomatoes, Running Time(min), Release Date, Budget(dollar), box_office(dollar), Based on, Screenplay by]\n",
       "Index: []\n",
       "\n",
       "[0 rows x 22 columns]"
      ]
     },
     "execution_count": 13,
     "metadata": {},
     "output_type": "execute_result"
    }
   ],
   "source": [
    "df1.dropna()"
   ]
  },
  {
   "cell_type": "markdown",
   "id": "64898985",
   "metadata": {},
   "source": [
    "<p>It seems we can not do that as all the rows at least has one value missing. We should say that we \n",
    "    will only take the rows if we have certain number of values in them</p>"
   ]
  },
  {
   "cell_type": "code",
   "execution_count": 14,
   "id": "a2244ac6",
   "metadata": {},
   "outputs": [
    {
     "data": {
      "text/plain": [
       "(303, 22)"
      ]
     },
     "execution_count": 14,
     "metadata": {},
     "output_type": "execute_result"
    }
   ],
   "source": [
    "# here we are saying that we will take a row if it has 18 columns which has any values(out of 22)\n",
    "cleaned_df1 = df1.dropna(thresh=18)\n",
    "cleaned_df1.shape"
   ]
  },
  {
   "cell_type": "code",
   "execution_count": 15,
   "id": "45901524",
   "metadata": {},
   "outputs": [
    {
     "name": "stdout",
     "output_type": "stream",
     "text": [
      "We are missing 9.59% data\n"
     ]
    }
   ],
   "source": [
    "show_missing_percentage(cleaned_df1)"
   ]
  },
  {
   "cell_type": "markdown",
   "id": "c0763ded",
   "metadata": {},
   "source": [
    "<p>Another approch is to fill in the missing data with pandas.fill() method but we can not apply that here as every row here is independent without any releation with each other and real world data. Infact a lot there column string values such as names </p>"
   ]
  },
  {
   "cell_type": "markdown",
   "id": "e5a9097b",
   "metadata": {},
   "source": [
    "<h3>So we will take the first method and clean it a little more when needed</h3>"
   ]
  },
  {
   "cell_type": "code",
   "execution_count": 16,
   "id": "25526c7f",
   "metadata": {},
   "outputs": [
    {
     "data": {
      "text/plain": [
       "Title                    0\n",
       "Directed by              0\n",
       "Written by             146\n",
       "Produced by              8\n",
       "Starring                 3\n",
       "Cinematography          15\n",
       "Edited by               11\n",
       "Music by                 7\n",
       "Productioncompanies     44\n",
       "Distributed by           2\n",
       "Country                 78\n",
       "Language                21\n",
       "ImdbRating               0\n",
       "MetaScore                0\n",
       "ImdbVotes                0\n",
       "Rotten Tomatoes          0\n",
       "Running Time(min)        7\n",
       "Release Date             0\n",
       "Budget(dollar)           0\n",
       "box_office(dollar)       0\n",
       "Based on               142\n",
       "Screenplay by          155\n",
       "dtype: int64"
      ]
     },
     "execution_count": 16,
     "metadata": {},
     "output_type": "execute_result"
    }
   ],
   "source": [
    "df2 = df1.dropna(thresh=18)\n",
    "df2.isnull().sum()"
   ]
  },
  {
   "cell_type": "markdown",
   "id": "e5203e15",
   "metadata": {},
   "source": [
    "<h2>Now lets try to analyze the data</h2>"
   ]
  },
  {
   "cell_type": "markdown",
   "id": "88f7e7e9",
   "metadata": {},
   "source": [
    "<p>Need to find out----</p>\n",
    "<ol>\n",
    "    <li>Which movie had the longest Running Time, which movie earned the most, which movie has good imbdb score</li><br>\n",
    "    <li>see if there are any relation between imdbvotes and their rating by plotting a graph</li>\n",
    "    <br>\n",
    "    <li>see if there are any relation between budget and box office earning</li>\n",
    "    <br>\n",
    "    <li>Which film director was most successful in making movies</li>\n",
    "    \n",
    "</ol>"
   ]
  },
  {
   "cell_type": "markdown",
   "id": "637c08cc",
   "metadata": {},
   "source": [
    "<h3>For the first three problem we do not need to take full dataset only take the columns we need and write a \n",
    "    function to see which movies are in the top</h3>"
   ]
  },
  {
   "cell_type": "code",
   "execution_count": 17,
   "id": "5f54247c",
   "metadata": {},
   "outputs": [
    {
     "data": {
      "text/html": [
       "<div>\n",
       "<style scoped>\n",
       "    .dataframe tbody tr th:only-of-type {\n",
       "        vertical-align: middle;\n",
       "    }\n",
       "\n",
       "    .dataframe tbody tr th {\n",
       "        vertical-align: top;\n",
       "    }\n",
       "\n",
       "    .dataframe thead th {\n",
       "        text-align: right;\n",
       "    }\n",
       "</style>\n",
       "<table border=\"1\" class=\"dataframe\">\n",
       "  <thead>\n",
       "    <tr style=\"text-align: right;\">\n",
       "      <th></th>\n",
       "      <th>Title</th>\n",
       "      <th>ImdbRating</th>\n",
       "      <th>ImdbVotes</th>\n",
       "      <th>Running Time(min)</th>\n",
       "      <th>box_office(dollar)</th>\n",
       "      <th>Budget(dollar)</th>\n",
       "    </tr>\n",
       "  </thead>\n",
       "  <tbody>\n",
       "    <tr>\n",
       "      <th>0</th>\n",
       "      <td>The Book of Eli</td>\n",
       "      <td>6.8</td>\n",
       "      <td>314,016</td>\n",
       "      <td>117.0</td>\n",
       "      <td>157100000.0</td>\n",
       "      <td>80000000.0</td>\n",
       "    </tr>\n",
       "    <tr>\n",
       "      <th>1</th>\n",
       "      <td>Edge of Darkness</td>\n",
       "      <td>6.6</td>\n",
       "      <td>94,198</td>\n",
       "      <td>117.0</td>\n",
       "      <td>81100000.0</td>\n",
       "      <td>80000000.0</td>\n",
       "    </tr>\n",
       "    <tr>\n",
       "      <th>2</th>\n",
       "      <td>Valentine's Day</td>\n",
       "      <td>5.7</td>\n",
       "      <td>119,426</td>\n",
       "      <td>125.0</td>\n",
       "      <td>216500000.0</td>\n",
       "      <td>52000000.0</td>\n",
       "    </tr>\n",
       "    <tr>\n",
       "      <th>3</th>\n",
       "      <td>Cop Out</td>\n",
       "      <td>5.6</td>\n",
       "      <td>87,845</td>\n",
       "      <td>107.0</td>\n",
       "      <td>55600000.0</td>\n",
       "      <td>30000000.0</td>\n",
       "    </tr>\n",
       "    <tr>\n",
       "      <th>4</th>\n",
       "      <td>Atithi Tum Kab Jaoge</td>\n",
       "      <td>6.4</td>\n",
       "      <td>6,016</td>\n",
       "      <td>115.0</td>\n",
       "      <td>NAN</td>\n",
       "      <td>NAN</td>\n",
       "    </tr>\n",
       "  </tbody>\n",
       "</table>\n",
       "</div>"
      ],
      "text/plain": [
       "                  Title ImdbRating ImdbVotes  Running Time(min)  \\\n",
       "0       The Book of Eli        6.8   314,016              117.0   \n",
       "1      Edge of Darkness        6.6    94,198              117.0   \n",
       "2       Valentine's Day        5.7   119,426              125.0   \n",
       "3               Cop Out        5.6    87,845              107.0   \n",
       "4  Atithi Tum Kab Jaoge        6.4     6,016              115.0   \n",
       "\n",
       "  box_office(dollar) Budget(dollar)  \n",
       "0        157100000.0     80000000.0  \n",
       "1         81100000.0     80000000.0  \n",
       "2        216500000.0     52000000.0  \n",
       "3         55600000.0     30000000.0  \n",
       "4                NAN            NAN  "
      ]
     },
     "execution_count": 17,
     "metadata": {},
     "output_type": "execute_result"
    }
   ],
   "source": [
    "df2_scores = df2[['Title', 'ImdbRating', 'ImdbVotes', 'Running Time(min)', 'box_office(dollar)', 'Budget(dollar)']]\n",
    "df2_scores.head()"
   ]
  },
  {
   "cell_type": "code",
   "execution_count": 18,
   "id": "702873af",
   "metadata": {},
   "outputs": [
    {
     "data": {
      "text/plain": [
       "Title                  object\n",
       "ImdbRating             object\n",
       "ImdbVotes              object\n",
       "Running Time(min)     float64\n",
       "box_office(dollar)     object\n",
       "Budget(dollar)         object\n",
       "dtype: object"
      ]
     },
     "execution_count": 18,
     "metadata": {},
     "output_type": "execute_result"
    }
   ],
   "source": [
    "df2_scores.dtypes"
   ]
  },
  {
   "cell_type": "markdown",
   "id": "19c586ea",
   "metadata": {},
   "source": [
    "<p>We should convert object to numeric values first before doing anythin else</p>"
   ]
  },
  {
   "cell_type": "code",
   "execution_count": 19,
   "id": "7026e475",
   "metadata": {},
   "outputs": [
    {
     "ename": "ValueError",
     "evalue": "Unable to parse string \"NAN\" at position 4",
     "output_type": "error",
     "traceback": [
      "\u001b[1;31m---------------------------------------------------------------------------\u001b[0m",
      "\u001b[1;31mValueError\u001b[0m                                Traceback (most recent call last)",
      "File \u001b[1;32mF:\\anaconda-env\\warner_bros_env\\lib\\site-packages\\pandas\\_libs\\lib.pyx:2315\u001b[0m, in \u001b[0;36mpandas._libs.lib.maybe_convert_numeric\u001b[1;34m()\u001b[0m\n",
      "\u001b[1;31mValueError\u001b[0m: Unable to parse string \"NAN\"",
      "\nDuring handling of the above exception, another exception occurred:\n",
      "\u001b[1;31mValueError\u001b[0m                                Traceback (most recent call last)",
      "Input \u001b[1;32mIn [19]\u001b[0m, in \u001b[0;36m<cell line: 1>\u001b[1;34m()\u001b[0m\n\u001b[1;32m----> 1\u001b[0m \u001b[43mpd\u001b[49m\u001b[38;5;241;43m.\u001b[39;49m\u001b[43mto_numeric\u001b[49m\u001b[43m(\u001b[49m\u001b[43mdf2_scores\u001b[49m\u001b[43m[\u001b[49m\u001b[38;5;124;43m'\u001b[39;49m\u001b[38;5;124;43mbox_office(dollar)\u001b[39;49m\u001b[38;5;124;43m'\u001b[39;49m\u001b[43m]\u001b[49m\u001b[43m)\u001b[49m\n",
      "File \u001b[1;32mF:\\anaconda-env\\warner_bros_env\\lib\\site-packages\\pandas\\core\\tools\\numeric.py:184\u001b[0m, in \u001b[0;36mto_numeric\u001b[1;34m(arg, errors, downcast)\u001b[0m\n\u001b[0;32m    182\u001b[0m coerce_numeric \u001b[38;5;241m=\u001b[39m errors \u001b[38;5;129;01mnot\u001b[39;00m \u001b[38;5;129;01min\u001b[39;00m (\u001b[38;5;124m\"\u001b[39m\u001b[38;5;124mignore\u001b[39m\u001b[38;5;124m\"\u001b[39m, \u001b[38;5;124m\"\u001b[39m\u001b[38;5;124mraise\u001b[39m\u001b[38;5;124m\"\u001b[39m)\n\u001b[0;32m    183\u001b[0m \u001b[38;5;28;01mtry\u001b[39;00m:\n\u001b[1;32m--> 184\u001b[0m     values, _ \u001b[38;5;241m=\u001b[39m \u001b[43mlib\u001b[49m\u001b[38;5;241;43m.\u001b[39;49m\u001b[43mmaybe_convert_numeric\u001b[49m\u001b[43m(\u001b[49m\n\u001b[0;32m    185\u001b[0m \u001b[43m        \u001b[49m\u001b[43mvalues\u001b[49m\u001b[43m,\u001b[49m\u001b[43m \u001b[49m\u001b[38;5;28;43mset\u001b[39;49m\u001b[43m(\u001b[49m\u001b[43m)\u001b[49m\u001b[43m,\u001b[49m\u001b[43m \u001b[49m\u001b[43mcoerce_numeric\u001b[49m\u001b[38;5;241;43m=\u001b[39;49m\u001b[43mcoerce_numeric\u001b[49m\n\u001b[0;32m    186\u001b[0m \u001b[43m    \u001b[49m\u001b[43m)\u001b[49m\n\u001b[0;32m    187\u001b[0m \u001b[38;5;28;01mexcept\u001b[39;00m (\u001b[38;5;167;01mValueError\u001b[39;00m, \u001b[38;5;167;01mTypeError\u001b[39;00m):\n\u001b[0;32m    188\u001b[0m     \u001b[38;5;28;01mif\u001b[39;00m errors \u001b[38;5;241m==\u001b[39m \u001b[38;5;124m\"\u001b[39m\u001b[38;5;124mraise\u001b[39m\u001b[38;5;124m\"\u001b[39m:\n",
      "File \u001b[1;32mF:\\anaconda-env\\warner_bros_env\\lib\\site-packages\\pandas\\_libs\\lib.pyx:2357\u001b[0m, in \u001b[0;36mpandas._libs.lib.maybe_convert_numeric\u001b[1;34m()\u001b[0m\n",
      "\u001b[1;31mValueError\u001b[0m: Unable to parse string \"NAN\" at position 4"
     ]
    }
   ],
   "source": [
    "pd.to_numeric(df2_scores['box_office(dollar)'])"
   ]
  },
  {
   "cell_type": "markdown",
   "id": "cce26775",
   "metadata": {},
   "source": [
    "<p>It seems that there are string values in the columns We should fix this</p>"
   ]
  },
  {
   "cell_type": "code",
   "execution_count": 20,
   "id": "efc58fdd",
   "metadata": {},
   "outputs": [
    {
     "data": {
      "text/plain": [
       "0    NaN\n",
       "1    NaN\n",
       "2    NaN\n",
       "3    NaN\n",
       "4    NAN\n",
       "Name: box_office(dollar), dtype: object"
      ]
     },
     "execution_count": 20,
     "metadata": {},
     "output_type": "execute_result"
    }
   ],
   "source": [
    "# in the original dataset\n",
    "df2[df2==\"NAN\"]['box_office(dollar)'].head()"
   ]
  },
  {
   "cell_type": "markdown",
   "id": "bcadfe6d",
   "metadata": {},
   "source": [
    "<p>We can replace the NAN with np.nan</p>"
   ]
  },
  {
   "cell_type": "code",
   "execution_count": 21,
   "id": "6583f5c0",
   "metadata": {},
   "outputs": [
    {
     "data": {
      "text/plain": [
       "Title                    0\n",
       "Directed by              0\n",
       "Written by             146\n",
       "Produced by              8\n",
       "Starring                 3\n",
       "Cinematography          15\n",
       "Edited by               11\n",
       "Music by                 7\n",
       "Productioncompanies     44\n",
       "Distributed by           2\n",
       "Country                 78\n",
       "Language                21\n",
       "ImdbRating               7\n",
       "MetaScore                7\n",
       "ImdbVotes                7\n",
       "Rotten Tomatoes         55\n",
       "Running Time(min)        7\n",
       "Release Date             0\n",
       "Budget(dollar)          78\n",
       "box_office(dollar)      42\n",
       "Based on               142\n",
       "Screenplay by          155\n",
       "dtype: int64"
      ]
     },
     "execution_count": 21,
     "metadata": {},
     "output_type": "execute_result"
    }
   ],
   "source": [
    "df3 = df2.replace({'NAN':np.nan})\n",
    "df3.isnull().sum()"
   ]
  },
  {
   "cell_type": "code",
   "execution_count": 22,
   "id": "b22da9f1",
   "metadata": {},
   "outputs": [
    {
     "name": "stdout",
     "output_type": "stream",
     "text": [
      "We are missing 12.53% data\n"
     ]
    }
   ],
   "source": [
    "show_missing_percentage(df3)"
   ]
  },
  {
   "cell_type": "markdown",
   "id": "36c3b084",
   "metadata": {},
   "source": [
    "<p>After doing this our missing data has increase a quite a lot from 9.50% to 12.50%</p>"
   ]
  },
  {
   "cell_type": "markdown",
   "id": "3d927ad3",
   "metadata": {},
   "source": [
    "<p>Lets get the portion of the dataset againK</p>"
   ]
  },
  {
   "cell_type": "code",
   "execution_count": 28,
   "id": "f10ba553",
   "metadata": {},
   "outputs": [
    {
     "data": {
      "text/html": [
       "<div>\n",
       "<style scoped>\n",
       "    .dataframe tbody tr th:only-of-type {\n",
       "        vertical-align: middle;\n",
       "    }\n",
       "\n",
       "    .dataframe tbody tr th {\n",
       "        vertical-align: top;\n",
       "    }\n",
       "\n",
       "    .dataframe thead th {\n",
       "        text-align: right;\n",
       "    }\n",
       "</style>\n",
       "<table border=\"1\" class=\"dataframe\">\n",
       "  <thead>\n",
       "    <tr style=\"text-align: right;\">\n",
       "      <th></th>\n",
       "      <th>Title</th>\n",
       "      <th>ImdbRating</th>\n",
       "      <th>ImdbVotes</th>\n",
       "      <th>Running Time(min)</th>\n",
       "      <th>box_office(dollar)</th>\n",
       "      <th>Budget(dollar)</th>\n",
       "    </tr>\n",
       "  </thead>\n",
       "  <tbody>\n",
       "    <tr>\n",
       "      <th>0</th>\n",
       "      <td>The Book of Eli</td>\n",
       "      <td>6.8</td>\n",
       "      <td>314,016</td>\n",
       "      <td>117.0</td>\n",
       "      <td>157100000.0</td>\n",
       "      <td>80000000.0</td>\n",
       "    </tr>\n",
       "    <tr>\n",
       "      <th>1</th>\n",
       "      <td>Edge of Darkness</td>\n",
       "      <td>6.6</td>\n",
       "      <td>94,198</td>\n",
       "      <td>117.0</td>\n",
       "      <td>81100000.0</td>\n",
       "      <td>80000000.0</td>\n",
       "    </tr>\n",
       "    <tr>\n",
       "      <th>2</th>\n",
       "      <td>Valentine's Day</td>\n",
       "      <td>5.7</td>\n",
       "      <td>119,426</td>\n",
       "      <td>125.0</td>\n",
       "      <td>216500000.0</td>\n",
       "      <td>52000000.0</td>\n",
       "    </tr>\n",
       "    <tr>\n",
       "      <th>3</th>\n",
       "      <td>Cop Out</td>\n",
       "      <td>5.6</td>\n",
       "      <td>87,845</td>\n",
       "      <td>107.0</td>\n",
       "      <td>55600000.0</td>\n",
       "      <td>30000000.0</td>\n",
       "    </tr>\n",
       "    <tr>\n",
       "      <th>4</th>\n",
       "      <td>Atithi Tum Kab Jaoge</td>\n",
       "      <td>6.4</td>\n",
       "      <td>6,016</td>\n",
       "      <td>115.0</td>\n",
       "      <td>NaN</td>\n",
       "      <td>NaN</td>\n",
       "    </tr>\n",
       "  </tbody>\n",
       "</table>\n",
       "</div>"
      ],
      "text/plain": [
       "                  Title ImdbRating ImdbVotes  Running Time(min)  \\\n",
       "0       The Book of Eli        6.8   314,016              117.0   \n",
       "1      Edge of Darkness        6.6    94,198              117.0   \n",
       "2       Valentine's Day        5.7   119,426              125.0   \n",
       "3               Cop Out        5.6    87,845              107.0   \n",
       "4  Atithi Tum Kab Jaoge        6.4     6,016              115.0   \n",
       "\n",
       "  box_office(dollar) Budget(dollar)  \n",
       "0        157100000.0     80000000.0  \n",
       "1         81100000.0     80000000.0  \n",
       "2        216500000.0     52000000.0  \n",
       "3         55600000.0     30000000.0  \n",
       "4                NaN            NaN  "
      ]
     },
     "execution_count": 28,
     "metadata": {},
     "output_type": "execute_result"
    }
   ],
   "source": [
    "df3_scores = df3[['Title', 'ImdbRating', 'ImdbVotes', 'Running Time(min)', 'box_office(dollar)', 'Budget(dollar)']]\n",
    "df3_scores.head()"
   ]
  },
  {
   "cell_type": "code",
   "execution_count": 29,
   "id": "b55e1fce",
   "metadata": {},
   "outputs": [
    {
     "data": {
      "text/plain": [
       "Title                  object\n",
       "ImdbRating             object\n",
       "ImdbVotes              object\n",
       "Running Time(min)     float64\n",
       "box_office(dollar)     object\n",
       "Budget(dollar)         object\n",
       "dtype: object"
      ]
     },
     "execution_count": 29,
     "metadata": {},
     "output_type": "execute_result"
    }
   ],
   "source": [
    "df3_scores.dtypes"
   ]
  },
  {
   "cell_type": "code",
   "execution_count": 30,
   "id": "529486d4",
   "metadata": {},
   "outputs": [
    {
     "ename": "ValueError",
     "evalue": "Unable to parse string \"12,160,978\" at position 37",
     "output_type": "error",
     "traceback": [
      "\u001b[1;31m---------------------------------------------------------------------------\u001b[0m",
      "\u001b[1;31mValueError\u001b[0m                                Traceback (most recent call last)",
      "File \u001b[1;32mF:\\anaconda-env\\warner_bros_env\\lib\\site-packages\\pandas\\_libs\\lib.pyx:2315\u001b[0m, in \u001b[0;36mpandas._libs.lib.maybe_convert_numeric\u001b[1;34m()\u001b[0m\n",
      "\u001b[1;31mValueError\u001b[0m: Unable to parse string \"12,160,978\"",
      "\nDuring handling of the above exception, another exception occurred:\n",
      "\u001b[1;31mValueError\u001b[0m                                Traceback (most recent call last)",
      "Input \u001b[1;32mIn [30]\u001b[0m, in \u001b[0;36m<cell line: 1>\u001b[1;34m()\u001b[0m\n\u001b[1;32m----> 1\u001b[0m \u001b[43mpd\u001b[49m\u001b[38;5;241;43m.\u001b[39;49m\u001b[43mto_numeric\u001b[49m\u001b[43m(\u001b[49m\u001b[43mdf3_scores\u001b[49m\u001b[43m[\u001b[49m\u001b[38;5;124;43m'\u001b[39;49m\u001b[38;5;124;43mbox_office(dollar)\u001b[39;49m\u001b[38;5;124;43m'\u001b[39;49m\u001b[43m]\u001b[49m\u001b[43m)\u001b[49m\n",
      "File \u001b[1;32mF:\\anaconda-env\\warner_bros_env\\lib\\site-packages\\pandas\\core\\tools\\numeric.py:184\u001b[0m, in \u001b[0;36mto_numeric\u001b[1;34m(arg, errors, downcast)\u001b[0m\n\u001b[0;32m    182\u001b[0m coerce_numeric \u001b[38;5;241m=\u001b[39m errors \u001b[38;5;129;01mnot\u001b[39;00m \u001b[38;5;129;01min\u001b[39;00m (\u001b[38;5;124m\"\u001b[39m\u001b[38;5;124mignore\u001b[39m\u001b[38;5;124m\"\u001b[39m, \u001b[38;5;124m\"\u001b[39m\u001b[38;5;124mraise\u001b[39m\u001b[38;5;124m\"\u001b[39m)\n\u001b[0;32m    183\u001b[0m \u001b[38;5;28;01mtry\u001b[39;00m:\n\u001b[1;32m--> 184\u001b[0m     values, _ \u001b[38;5;241m=\u001b[39m \u001b[43mlib\u001b[49m\u001b[38;5;241;43m.\u001b[39;49m\u001b[43mmaybe_convert_numeric\u001b[49m\u001b[43m(\u001b[49m\n\u001b[0;32m    185\u001b[0m \u001b[43m        \u001b[49m\u001b[43mvalues\u001b[49m\u001b[43m,\u001b[49m\u001b[43m \u001b[49m\u001b[38;5;28;43mset\u001b[39;49m\u001b[43m(\u001b[49m\u001b[43m)\u001b[49m\u001b[43m,\u001b[49m\u001b[43m \u001b[49m\u001b[43mcoerce_numeric\u001b[49m\u001b[38;5;241;43m=\u001b[39;49m\u001b[43mcoerce_numeric\u001b[49m\n\u001b[0;32m    186\u001b[0m \u001b[43m    \u001b[49m\u001b[43m)\u001b[49m\n\u001b[0;32m    187\u001b[0m \u001b[38;5;28;01mexcept\u001b[39;00m (\u001b[38;5;167;01mValueError\u001b[39;00m, \u001b[38;5;167;01mTypeError\u001b[39;00m):\n\u001b[0;32m    188\u001b[0m     \u001b[38;5;28;01mif\u001b[39;00m errors \u001b[38;5;241m==\u001b[39m \u001b[38;5;124m\"\u001b[39m\u001b[38;5;124mraise\u001b[39m\u001b[38;5;124m\"\u001b[39m:\n",
      "File \u001b[1;32mF:\\anaconda-env\\warner_bros_env\\lib\\site-packages\\pandas\\_libs\\lib.pyx:2357\u001b[0m, in \u001b[0;36mpandas._libs.lib.maybe_convert_numeric\u001b[1;34m()\u001b[0m\n",
      "\u001b[1;31mValueError\u001b[0m: Unable to parse string \"12,160,978\" at position 37"
     ]
    }
   ],
   "source": [
    "pd.to_numeric(df3_scores['box_office(dollar)'])"
   ]
  },
  {
   "cell_type": "markdown",
   "id": "a9e978ac",
   "metadata": {},
   "source": [
    "<p>There are still some problems it seems</p>"
   ]
  },
  {
   "cell_type": "code",
   "execution_count": 31,
   "id": "7e18beca",
   "metadata": {},
   "outputs": [
    {
     "name": "stderr",
     "output_type": "stream",
     "text": [
      "C:\\Program Files\\KMSpico\\temp\\ipykernel_16188\\2016349159.py:11: SettingWithCopyWarning: \n",
      "A value is trying to be set on a copy of a slice from a DataFrame.\n",
      "Try using .loc[row_indexer,col_indexer] = value instead\n",
      "\n",
      "See the caveats in the documentation: https://pandas.pydata.org/pandas-docs/stable/user_guide/indexing.html#returning-a-view-versus-a-copy\n",
      "  df3_scores[columns] = df3_scores[columns].applymap(get_float)\n"
     ]
    }
   ],
   "source": [
    "# to tackle this we can do something like this\n",
    "def get_float(x):\n",
    "    if not isinstance(x, str):\n",
    "        x = str(x)\n",
    "    try:\n",
    "        return float(''.join(x.split(',')))\n",
    "    except:\n",
    "        return np.nan\n",
    "        \n",
    "columns = df3_scores.columns[1:]\n",
    "df3_scores[columns] = df3_scores[columns].applymap(get_float)"
   ]
  },
  {
   "cell_type": "code",
   "execution_count": 32,
   "id": "4c21bb0d",
   "metadata": {},
   "outputs": [
    {
     "data": {
      "text/html": [
       "<div>\n",
       "<style scoped>\n",
       "    .dataframe tbody tr th:only-of-type {\n",
       "        vertical-align: middle;\n",
       "    }\n",
       "\n",
       "    .dataframe tbody tr th {\n",
       "        vertical-align: top;\n",
       "    }\n",
       "\n",
       "    .dataframe thead th {\n",
       "        text-align: right;\n",
       "    }\n",
       "</style>\n",
       "<table border=\"1\" class=\"dataframe\">\n",
       "  <thead>\n",
       "    <tr style=\"text-align: right;\">\n",
       "      <th></th>\n",
       "      <th>Title</th>\n",
       "      <th>ImdbRating</th>\n",
       "      <th>ImdbVotes</th>\n",
       "      <th>Running Time(min)</th>\n",
       "      <th>box_office(dollar)</th>\n",
       "      <th>Budget(dollar)</th>\n",
       "    </tr>\n",
       "  </thead>\n",
       "  <tbody>\n",
       "    <tr>\n",
       "      <th>0</th>\n",
       "      <td>The Book of Eli</td>\n",
       "      <td>6.8</td>\n",
       "      <td>314016.0</td>\n",
       "      <td>117.0</td>\n",
       "      <td>157100000.0</td>\n",
       "      <td>80000000.0</td>\n",
       "    </tr>\n",
       "    <tr>\n",
       "      <th>1</th>\n",
       "      <td>Edge of Darkness</td>\n",
       "      <td>6.6</td>\n",
       "      <td>94198.0</td>\n",
       "      <td>117.0</td>\n",
       "      <td>81100000.0</td>\n",
       "      <td>80000000.0</td>\n",
       "    </tr>\n",
       "    <tr>\n",
       "      <th>2</th>\n",
       "      <td>Valentine's Day</td>\n",
       "      <td>5.7</td>\n",
       "      <td>119426.0</td>\n",
       "      <td>125.0</td>\n",
       "      <td>216500000.0</td>\n",
       "      <td>52000000.0</td>\n",
       "    </tr>\n",
       "    <tr>\n",
       "      <th>3</th>\n",
       "      <td>Cop Out</td>\n",
       "      <td>5.6</td>\n",
       "      <td>87845.0</td>\n",
       "      <td>107.0</td>\n",
       "      <td>55600000.0</td>\n",
       "      <td>30000000.0</td>\n",
       "    </tr>\n",
       "    <tr>\n",
       "      <th>4</th>\n",
       "      <td>Atithi Tum Kab Jaoge</td>\n",
       "      <td>6.4</td>\n",
       "      <td>6016.0</td>\n",
       "      <td>115.0</td>\n",
       "      <td>NaN</td>\n",
       "      <td>NaN</td>\n",
       "    </tr>\n",
       "  </tbody>\n",
       "</table>\n",
       "</div>"
      ],
      "text/plain": [
       "                  Title  ImdbRating  ImdbVotes  Running Time(min)  \\\n",
       "0       The Book of Eli         6.8   314016.0              117.0   \n",
       "1      Edge of Darkness         6.6    94198.0              117.0   \n",
       "2       Valentine's Day         5.7   119426.0              125.0   \n",
       "3               Cop Out         5.6    87845.0              107.0   \n",
       "4  Atithi Tum Kab Jaoge         6.4     6016.0              115.0   \n",
       "\n",
       "   box_office(dollar)  Budget(dollar)  \n",
       "0         157100000.0      80000000.0  \n",
       "1          81100000.0      80000000.0  \n",
       "2         216500000.0      52000000.0  \n",
       "3          55600000.0      30000000.0  \n",
       "4                 NaN             NaN  "
      ]
     },
     "execution_count": 32,
     "metadata": {},
     "output_type": "execute_result"
    }
   ],
   "source": [
    "df3_scores.head()"
   ]
  },
  {
   "cell_type": "code",
   "execution_count": 33,
   "id": "56f2f519",
   "metadata": {},
   "outputs": [
    {
     "name": "stdout",
     "output_type": "stream",
     "text": [
      "We are missing 7.9799999999999995% data\n"
     ]
    }
   ],
   "source": [
    "show_missing_percentage(df3_scores)"
   ]
  },
  {
   "cell_type": "code",
   "execution_count": 34,
   "id": "77c796d6",
   "metadata": {},
   "outputs": [],
   "source": [
    "# a function which sort the dataet by a column and returns the title, the column\n",
    "def get_sorted_dataset(df, by_column, ascending=True):\n",
    "    df_sorted = df.sort_values(by_column, ascending=ascending)[['Title', by_column]]\n",
    "    return df_sorted.dropna(how='any') # drop any NaN value row"
   ]
  },
  {
   "cell_type": "code",
   "execution_count": 35,
   "id": "34d54cf5",
   "metadata": {},
   "outputs": [],
   "source": [
    "pd.set_option('display.float_format', lambda x: '%.2f' % x)"
   ]
  },
  {
   "cell_type": "code",
   "execution_count": 36,
   "id": "af227d2a",
   "metadata": {},
   "outputs": [
    {
     "data": {
      "text/html": [
       "<div>\n",
       "<style scoped>\n",
       "    .dataframe tbody tr th:only-of-type {\n",
       "        vertical-align: middle;\n",
       "    }\n",
       "\n",
       "    .dataframe tbody tr th {\n",
       "        vertical-align: top;\n",
       "    }\n",
       "\n",
       "    .dataframe thead th {\n",
       "        text-align: right;\n",
       "    }\n",
       "</style>\n",
       "<table border=\"1\" class=\"dataframe\">\n",
       "  <thead>\n",
       "    <tr style=\"text-align: right;\">\n",
       "      <th></th>\n",
       "      <th>Title</th>\n",
       "      <th>box_office(dollar)</th>\n",
       "    </tr>\n",
       "  </thead>\n",
       "  <tbody>\n",
       "    <tr>\n",
       "      <th>306</th>\n",
       "      <td>Aquaman</td>\n",
       "      <td>1000000000.00</td>\n",
       "    </tr>\n",
       "    <tr>\n",
       "      <th>105</th>\n",
       "      <td>The Hobbit: An Unexpected Journey</td>\n",
       "      <td>1000000000.00</td>\n",
       "    </tr>\n",
       "    <tr>\n",
       "      <th>327</th>\n",
       "      <td>Joker</td>\n",
       "      <td>1000000000.00</td>\n",
       "    </tr>\n",
       "    <tr>\n",
       "      <th>62</th>\n",
       "      <td>Harry Potter and the Deathly Hallows – Part 2</td>\n",
       "      <td>1000000000.00</td>\n",
       "    </tr>\n",
       "    <tr>\n",
       "      <th>95</th>\n",
       "      <td>The Dark Knight Rises</td>\n",
       "      <td>1000000000.00</td>\n",
       "    </tr>\n",
       "    <tr>\n",
       "      <th>...</th>\n",
       "      <td>...</td>\n",
       "      <td>...</td>\n",
       "    </tr>\n",
       "    <tr>\n",
       "      <th>310</th>\n",
       "      <td>The Golden Glove</td>\n",
       "      <td>603434.00</td>\n",
       "    </tr>\n",
       "    <tr>\n",
       "      <th>197</th>\n",
       "      <td>Hidden</td>\n",
       "      <td>310273.00</td>\n",
       "    </tr>\n",
       "    <tr>\n",
       "      <th>303</th>\n",
       "      <td>Head Full of Honey</td>\n",
       "      <td>138844.00</td>\n",
       "    </tr>\n",
       "    <tr>\n",
       "      <th>189</th>\n",
       "      <td>Batkid Begins</td>\n",
       "      <td>74709.00</td>\n",
       "    </tr>\n",
       "    <tr>\n",
       "      <th>67</th>\n",
       "      <td>Top Cat: The Movie</td>\n",
       "      <td>112.25</td>\n",
       "    </tr>\n",
       "  </tbody>\n",
       "</table>\n",
       "<p>261 rows × 2 columns</p>\n",
       "</div>"
      ],
      "text/plain": [
       "                                             Title  box_office(dollar)\n",
       "306                                        Aquaman       1000000000.00\n",
       "105              The Hobbit: An Unexpected Journey       1000000000.00\n",
       "327                                          Joker       1000000000.00\n",
       "62   Harry Potter and the Deathly Hallows – Part 2       1000000000.00\n",
       "95                           The Dark Knight Rises       1000000000.00\n",
       "..                                             ...                 ...\n",
       "310                               The Golden Glove           603434.00\n",
       "197                                         Hidden           310273.00\n",
       "303                             Head Full of Honey           138844.00\n",
       "189                                  Batkid Begins            74709.00\n",
       "67                              Top Cat: The Movie              112.25\n",
       "\n",
       "[261 rows x 2 columns]"
      ]
     },
     "execution_count": 36,
     "metadata": {},
     "output_type": "execute_result"
    }
   ],
   "source": [
    "get_sorted_dataset(df3_scores, by_column='box_office(dollar)', ascending=False)"
   ]
  },
  {
   "cell_type": "markdown",
   "id": "23feb603",
   "metadata": {},
   "source": [
    "<p>A lot of pictures earned more than 1 billion. We can also see that our least income movie is Top Cat: The movie with earning of 112.25 dollar which is clearly a mistake as the real earning is 112.25 million(checked on wikipedia). <br>It is probably due to some mistake in data collection part. The rest of the values are okay</p>"
   ]
  },
  {
   "cell_type": "code",
   "execution_count": 37,
   "id": "5f38ad90",
   "metadata": {},
   "outputs": [],
   "source": [
    "# lets fix the value \n",
    "df3_scores.at[67, 'box_office(dollar)'] = 112.25*1000000"
   ]
  },
  {
   "cell_type": "code",
   "execution_count": 38,
   "id": "6490b3c3",
   "metadata": {},
   "outputs": [
    {
     "data": {
      "text/html": [
       "<div>\n",
       "<style scoped>\n",
       "    .dataframe tbody tr th:only-of-type {\n",
       "        vertical-align: middle;\n",
       "    }\n",
       "\n",
       "    .dataframe tbody tr th {\n",
       "        vertical-align: top;\n",
       "    }\n",
       "\n",
       "    .dataframe thead th {\n",
       "        text-align: right;\n",
       "    }\n",
       "</style>\n",
       "<table border=\"1\" class=\"dataframe\">\n",
       "  <thead>\n",
       "    <tr style=\"text-align: right;\">\n",
       "      <th></th>\n",
       "      <th>Title</th>\n",
       "      <th>box_office(dollar)</th>\n",
       "    </tr>\n",
       "  </thead>\n",
       "  <tbody>\n",
       "    <tr>\n",
       "      <th>306</th>\n",
       "      <td>Aquaman</td>\n",
       "      <td>1000000000.00</td>\n",
       "    </tr>\n",
       "    <tr>\n",
       "      <th>105</th>\n",
       "      <td>The Hobbit: An Unexpected Journey</td>\n",
       "      <td>1000000000.00</td>\n",
       "    </tr>\n",
       "    <tr>\n",
       "      <th>327</th>\n",
       "      <td>Joker</td>\n",
       "      <td>1000000000.00</td>\n",
       "    </tr>\n",
       "    <tr>\n",
       "      <th>62</th>\n",
       "      <td>Harry Potter and the Deathly Hallows – Part 2</td>\n",
       "      <td>1000000000.00</td>\n",
       "    </tr>\n",
       "    <tr>\n",
       "      <th>95</th>\n",
       "      <td>The Dark Knight Rises</td>\n",
       "      <td>1000000000.00</td>\n",
       "    </tr>\n",
       "    <tr>\n",
       "      <th>...</th>\n",
       "      <td>...</td>\n",
       "      <td>...</td>\n",
       "    </tr>\n",
       "    <tr>\n",
       "      <th>182</th>\n",
       "      <td>Lost River</td>\n",
       "      <td>615500.00</td>\n",
       "    </tr>\n",
       "    <tr>\n",
       "      <th>310</th>\n",
       "      <td>The Golden Glove</td>\n",
       "      <td>603434.00</td>\n",
       "    </tr>\n",
       "    <tr>\n",
       "      <th>197</th>\n",
       "      <td>Hidden</td>\n",
       "      <td>310273.00</td>\n",
       "    </tr>\n",
       "    <tr>\n",
       "      <th>303</th>\n",
       "      <td>Head Full of Honey</td>\n",
       "      <td>138844.00</td>\n",
       "    </tr>\n",
       "    <tr>\n",
       "      <th>189</th>\n",
       "      <td>Batkid Begins</td>\n",
       "      <td>74709.00</td>\n",
       "    </tr>\n",
       "  </tbody>\n",
       "</table>\n",
       "<p>261 rows × 2 columns</p>\n",
       "</div>"
      ],
      "text/plain": [
       "                                             Title  box_office(dollar)\n",
       "306                                        Aquaman       1000000000.00\n",
       "105              The Hobbit: An Unexpected Journey       1000000000.00\n",
       "327                                          Joker       1000000000.00\n",
       "62   Harry Potter and the Deathly Hallows – Part 2       1000000000.00\n",
       "95                           The Dark Knight Rises       1000000000.00\n",
       "..                                             ...                 ...\n",
       "182                                     Lost River           615500.00\n",
       "310                               The Golden Glove           603434.00\n",
       "197                                         Hidden           310273.00\n",
       "303                             Head Full of Honey           138844.00\n",
       "189                                  Batkid Begins            74709.00\n",
       "\n",
       "[261 rows x 2 columns]"
      ]
     },
     "execution_count": 38,
     "metadata": {},
     "output_type": "execute_result"
    }
   ],
   "source": [
    "box_office_sorted = get_sorted_dataset(df3_scores, by_column='box_office(dollar)', ascending=False)\n",
    "box_office_sorted"
   ]
  },
  {
   "cell_type": "markdown",
   "id": "89a6a7c6",
   "metadata": {},
   "source": [
    "<p>Most running time--></p>"
   ]
  },
  {
   "cell_type": "code",
   "execution_count": 39,
   "id": "dff28b41",
   "metadata": {},
   "outputs": [
    {
     "data": {
      "text/html": [
       "<div>\n",
       "<style scoped>\n",
       "    .dataframe tbody tr th:only-of-type {\n",
       "        vertical-align: middle;\n",
       "    }\n",
       "\n",
       "    .dataframe tbody tr th {\n",
       "        vertical-align: top;\n",
       "    }\n",
       "\n",
       "    .dataframe thead th {\n",
       "        text-align: right;\n",
       "    }\n",
       "</style>\n",
       "<table border=\"1\" class=\"dataframe\">\n",
       "  <thead>\n",
       "    <tr style=\"text-align: right;\">\n",
       "      <th></th>\n",
       "      <th>Title</th>\n",
       "      <th>Running Time(min)</th>\n",
       "    </tr>\n",
       "  </thead>\n",
       "  <tbody>\n",
       "    <tr>\n",
       "      <th>104</th>\n",
       "      <td>Cloud Atlas</td>\n",
       "      <td>172.00</td>\n",
       "    </tr>\n",
       "    <tr>\n",
       "      <th>324</th>\n",
       "      <td>It Chapter Two</td>\n",
       "      <td>169.00</td>\n",
       "    </tr>\n",
       "    <tr>\n",
       "      <th>105</th>\n",
       "      <td>The Hobbit: An Unexpected Journey</td>\n",
       "      <td>169.00</td>\n",
       "    </tr>\n",
       "    <tr>\n",
       "      <th>166</th>\n",
       "      <td>Interstellar</td>\n",
       "      <td>169.00</td>\n",
       "    </tr>\n",
       "    <tr>\n",
       "      <th>95</th>\n",
       "      <td>The Dark Knight Rises</td>\n",
       "      <td>165.00</td>\n",
       "    </tr>\n",
       "  </tbody>\n",
       "</table>\n",
       "</div>"
      ],
      "text/plain": [
       "                                 Title  Running Time(min)\n",
       "104                        Cloud Atlas             172.00\n",
       "324                     It Chapter Two             169.00\n",
       "105  The Hobbit: An Unexpected Journey             169.00\n",
       "166                       Interstellar             169.00\n",
       "95               The Dark Knight Rises             165.00"
      ]
     },
     "execution_count": 39,
     "metadata": {},
     "output_type": "execute_result"
    }
   ],
   "source": [
    "get_sorted_dataset(df3_scores, by_column='Running Time(min)', ascending=False).head()"
   ]
  },
  {
   "cell_type": "markdown",
   "id": "6416eb56",
   "metadata": {},
   "source": [
    "<p>We can say the Cloud Atlas has the running time of 172 min with It chapter Two movie following closely</p>"
   ]
  },
  {
   "cell_type": "markdown",
   "id": "85e075f7",
   "metadata": {},
   "source": [
    "<p>Movie with best imdbRating--></p>"
   ]
  },
  {
   "cell_type": "code",
   "execution_count": 40,
   "id": "7fc637ff",
   "metadata": {},
   "outputs": [
    {
     "data": {
      "text/html": [
       "<div>\n",
       "<style scoped>\n",
       "    .dataframe tbody tr th:only-of-type {\n",
       "        vertical-align: middle;\n",
       "    }\n",
       "\n",
       "    .dataframe tbody tr th {\n",
       "        vertical-align: top;\n",
       "    }\n",
       "\n",
       "    .dataframe thead th {\n",
       "        text-align: right;\n",
       "    }\n",
       "</style>\n",
       "<table border=\"1\" class=\"dataframe\">\n",
       "  <thead>\n",
       "    <tr style=\"text-align: right;\">\n",
       "      <th></th>\n",
       "      <th>Title</th>\n",
       "      <th>ImdbRating</th>\n",
       "    </tr>\n",
       "  </thead>\n",
       "  <tbody>\n",
       "    <tr>\n",
       "      <th>19</th>\n",
       "      <td>Inception</td>\n",
       "      <td>8.80</td>\n",
       "    </tr>\n",
       "    <tr>\n",
       "      <th>166</th>\n",
       "      <td>Interstellar</td>\n",
       "      <td>8.60</td>\n",
       "    </tr>\n",
       "    <tr>\n",
       "      <th>188</th>\n",
       "      <td>Entourage</td>\n",
       "      <td>8.50</td>\n",
       "    </tr>\n",
       "    <tr>\n",
       "      <th>98</th>\n",
       "      <td>Rurouni Kenshin</td>\n",
       "      <td>8.50</td>\n",
       "    </tr>\n",
       "    <tr>\n",
       "      <th>146</th>\n",
       "      <td>Veronica Mars</td>\n",
       "      <td>8.40</td>\n",
       "    </tr>\n",
       "  </tbody>\n",
       "</table>\n",
       "</div>"
      ],
      "text/plain": [
       "               Title  ImdbRating\n",
       "19         Inception        8.80\n",
       "166     Interstellar        8.60\n",
       "188        Entourage        8.50\n",
       "98   Rurouni Kenshin        8.50\n",
       "146    Veronica Mars        8.40"
      ]
     },
     "execution_count": 40,
     "metadata": {},
     "output_type": "execute_result"
    }
   ],
   "source": [
    "get_sorted_dataset(df3_scores, by_column='ImdbRating', ascending=False).head()"
   ]
  },
  {
   "cell_type": "markdown",
   "id": "ef941fea",
   "metadata": {},
   "source": [
    "<p>Inception and Interstellar movie has a very high rating</p>"
   ]
  },
  {
   "cell_type": "markdown",
   "id": "3bf6ad81",
   "metadata": {},
   "source": [
    "<h3>Now lets solve second and third problems</h3>\n",
    "<p>see if there are is a relationship between budget and box office earning or if there is a relation between imdb votes and imdb ratings</p>"
   ]
  },
  {
   "cell_type": "code",
   "execution_count": 41,
   "id": "896e44b4",
   "metadata": {},
   "outputs": [],
   "source": [
    "#  darkgrid, whitegrid, dark, white, and ticks"
   ]
  },
  {
   "cell_type": "code",
   "execution_count": 42,
   "id": "ed4b14ea",
   "metadata": {},
   "outputs": [
    {
     "data": {
      "text/plain": [
       "(222, 2)"
      ]
     },
     "execution_count": 42,
     "metadata": {},
     "output_type": "execute_result"
    }
   ],
   "source": [
    "profit_df = df3_scores[['box_office(dollar)', 'Budget(dollar)']].dropna()\n",
    "profit_df.shape"
   ]
  },
  {
   "cell_type": "code",
   "execution_count": 43,
   "id": "95a5cb35",
   "metadata": {},
   "outputs": [],
   "source": [
    "box_office = profit_df['box_office(dollar)'].dropna()\n",
    "budget = profit_df['Budget(dollar)'].dropna()"
   ]
  },
  {
   "cell_type": "code",
   "execution_count": 45,
   "id": "0f71d841",
   "metadata": {},
   "outputs": [
    {
     "data": {
      "image/png": "[encoded data removed]",
      "text/plain": [
       "<Figure size 432x288 with 1 Axes>"
      ]
     },
     "metadata": {},
     "output_type": "display_data"
    }
   ],
   "source": [
    "sns.set(style='ticks')\n",
    "\n",
    "plt.scatter(budget, box_office, edgecolor='black')\n",
    "\n",
    "plt.xlabel('Budget(dollar)', weight='bold')\n",
    "plt.ylabel('Box office(dollar)', weight='bold')\n",
    "plt.title('Realtion between Budget and Box office earning', weight='bold')\n",
    "\n",
    "plt.grid(True)\n",
    "plt.tight_layout()\n",
    "plt.show()"
   ]
  },
  {
   "cell_type": "markdown",
   "id": "90a50105",
   "metadata": {},
   "source": [
    "<p>We can see that there is definetly a positive linear relation between budget and box office earning but it hard to say the budget effect box office earining and most the films budget are less than \n",
    "50 million dollars</p>"
   ]
  },
  {
   "cell_type": "markdown",
   "id": "80f3a804",
   "metadata": {},
   "source": [
    "<p>To get a numerical representation of how much they affect each other we can use corelation coefficeint</p>"
   ]
  },
  {
   "cell_type": "code",
   "execution_count": 46,
   "id": "6464d325",
   "metadata": {},
   "outputs": [],
   "source": [
    "def get_corelation_coefficient(x, y):\n",
    "    x = np.array(x)\n",
    "    y = np.array(y)\n",
    "    \n",
    "    x_mean = np.mean(x)\n",
    "    x_std = np.std(x)\n",
    "    y_mean = np.mean(y)\n",
    "    y_std = np.std(y)\n",
    "    \n",
    "    x_zscore = (x - x_mean) / x_std\n",
    "    y_zscore = (y - y_mean) / y_std\n",
    "    \n",
    "    corelation = np.mean(x_zscore * y_zscore)\n",
    "    return round(corelation, 3)"
   ]
  },
  {
   "cell_type": "code",
   "execution_count": 47,
   "id": "9b430c5d",
   "metadata": {},
   "outputs": [
    {
     "name": "stdout",
     "output_type": "stream",
     "text": [
      "Budget and box office have relation of 0.749\n"
     ]
    }
   ],
   "source": [
    "print(f'Budget and box office have relation of {get_corelation_coefficient(budget, box_office)}')"
   ]
  },
  {
   "cell_type": "markdown",
   "id": "b3bfeffb",
   "metadata": {},
   "source": [
    "<p>A value of 0.749 tells us that the two variables Budget and box office has a linear fairly strong and positive relation</p>"
   ]
  },
  {
   "cell_type": "code",
   "execution_count": 48,
   "id": "d432ec39",
   "metadata": {},
   "outputs": [],
   "source": [
    "imdb_votes = df3_scores['ImdbVotes'].dropna()\n",
    "imdb_ratings = df3_scores['ImdbRating'].dropna()"
   ]
  },
  {
   "cell_type": "code",
   "execution_count": 49,
   "id": "5e6e5fca",
   "metadata": {},
   "outputs": [
    {
     "data": {
      "image/png": "[encoded data removed]",
      "text/plain": [
       "<Figure size 432x288 with 1 Axes>"
      ]
     },
     "metadata": {},
     "output_type": "display_data"
    }
   ],
   "source": [
    "sns.set(style='ticks')\n",
    "\n",
    "plt.scatter(imdb_votes, imdb_ratings, edgecolor='black')\n",
    "\n",
    "plt.xlabel('IMDB VOTES', weight='bold')\n",
    "plt.ylabel('IMDB RATINGS', weight='bold')\n",
    "plt.title('Realtion between Imdb votes and Imdbratings earning', weight='bold')\n",
    "\n",
    "plt.grid(True)\n",
    "plt.tight_layout()\n",
    "plt.show()"
   ]
  },
  {
   "cell_type": "markdown",
   "id": "fd6fd575",
   "metadata": {},
   "source": [
    "<p>In these picture it is very hard to say if imdb votes has an effect on imdb ratings but we can use\n",
    "    corelation coefficeint to measure that</p>"
   ]
  },
  {
   "cell_type": "code",
   "execution_count": 50,
   "id": "f9e525f0",
   "metadata": {},
   "outputs": [
    {
     "name": "stdout",
     "output_type": "stream",
     "text": [
      "Budget and box office have relation of 0.489\n"
     ]
    }
   ],
   "source": [
    "corelation = get_corelation_coefficient(imdb_votes, imdb_ratings)\n",
    "print(f'Budget and box office have relation of {corelation}')"
   ]
  },
  {
   "cell_type": "markdown",
   "id": "ec430e0a",
   "metadata": {},
   "source": [
    "<p>What we can say from the plot and coleation cofficient that although there is a linear positive realtion between imdb votes and imdb rating it is not very strong</p>"
   ]
  },
  {
   "cell_type": "markdown",
   "id": "7626a1cf",
   "metadata": {},
   "source": [
    "<h3>Now lets move to the last problem to see which director was most successful in his carrer</h3>"
   ]
  },
  {
   "cell_type": "code",
   "execution_count": 73,
   "id": "634f5d46",
   "metadata": {},
   "outputs": [
    {
     "data": {
      "text/html": [
       "<div>\n",
       "<style scoped>\n",
       "    .dataframe tbody tr th:only-of-type {\n",
       "        vertical-align: middle;\n",
       "    }\n",
       "\n",
       "    .dataframe tbody tr th {\n",
       "        vertical-align: top;\n",
       "    }\n",
       "\n",
       "    .dataframe thead th {\n",
       "        text-align: right;\n",
       "    }\n",
       "</style>\n",
       "<table border=\"1\" class=\"dataframe\">\n",
       "  <thead>\n",
       "    <tr style=\"text-align: right;\">\n",
       "      <th></th>\n",
       "      <th>Title</th>\n",
       "      <th>Directed by</th>\n",
       "      <th>Written by</th>\n",
       "      <th>Produced by</th>\n",
       "      <th>Starring</th>\n",
       "      <th>Cinematography</th>\n",
       "      <th>Edited by</th>\n",
       "      <th>Music by</th>\n",
       "      <th>Productioncompanies</th>\n",
       "      <th>Distributed by</th>\n",
       "      <th>...</th>\n",
       "      <th>ImdbRating</th>\n",
       "      <th>MetaScore</th>\n",
       "      <th>ImdbVotes</th>\n",
       "      <th>Rotten Tomatoes</th>\n",
       "      <th>Running Time(min)</th>\n",
       "      <th>Release Date</th>\n",
       "      <th>Budget(dollar)</th>\n",
       "      <th>box_office(dollar)</th>\n",
       "      <th>Based on</th>\n",
       "      <th>Screenplay by</th>\n",
       "    </tr>\n",
       "  </thead>\n",
       "  <tbody>\n",
       "    <tr>\n",
       "      <th>0</th>\n",
       "      <td>The Book of Eli</td>\n",
       "      <td>The Hughes Brothers</td>\n",
       "      <td>Gary Whitta</td>\n",
       "      <td>[Joel Silver, Susan Downey, Andrew Kosove, Bro...</td>\n",
       "      <td>[Denzel Washington, Gary Oldman, Mila Kunis, R...</td>\n",
       "      <td>Don Burgess</td>\n",
       "      <td>Cindy Mollo</td>\n",
       "      <td>[Atticus Ross, Leopold Ross, Claudia Sarne]</td>\n",
       "      <td>[Alcon Entertainment, Silver Pictures]</td>\n",
       "      <td>[Warner Bros. Pictures, Summit Entertainment]</td>\n",
       "      <td>...</td>\n",
       "      <td>6.8</td>\n",
       "      <td>53</td>\n",
       "      <td>314,016</td>\n",
       "      <td>47%</td>\n",
       "      <td>117.00</td>\n",
       "      <td>January15,2010</td>\n",
       "      <td>80000000.0</td>\n",
       "      <td>157100000.0</td>\n",
       "      <td>NaN</td>\n",
       "      <td>NaN</td>\n",
       "    </tr>\n",
       "    <tr>\n",
       "      <th>1</th>\n",
       "      <td>Edge of Darkness</td>\n",
       "      <td>Martin Campbell</td>\n",
       "      <td>[William Monahan, Andrew Bovell]</td>\n",
       "      <td>[Graham King, Tim Headington, Michael Wearing]</td>\n",
       "      <td>[Mel Gibson, Ray Winstone, Danny Huston, Bojan...</td>\n",
       "      <td>Phil Meheux</td>\n",
       "      <td>Stuart Baird</td>\n",
       "      <td>Howard Shore</td>\n",
       "      <td>[GK Films, BBC Films, Icon Productions]</td>\n",
       "      <td>[Icon Film Distribution, Warner Bros. Pictures]</td>\n",
       "      <td>...</td>\n",
       "      <td>6.6</td>\n",
       "      <td>55</td>\n",
       "      <td>94,198</td>\n",
       "      <td>55%</td>\n",
       "      <td>117.00</td>\n",
       "      <td>January29,2010</td>\n",
       "      <td>80000000.0</td>\n",
       "      <td>81100000.0</td>\n",
       "      <td>Edge of Darkness,by,Troy Kennedy Martin</td>\n",
       "      <td>NaN</td>\n",
       "    </tr>\n",
       "    <tr>\n",
       "      <th>2</th>\n",
       "      <td>Valentine's Day</td>\n",
       "      <td>Garry Marshall</td>\n",
       "      <td>NaN</td>\n",
       "      <td>[Mike Karz, Wayne Allan Rice]</td>\n",
       "      <td>[Jessica Alba, Kathy Bates, Jessica Biel, Brad...</td>\n",
       "      <td>Charles Minsky</td>\n",
       "      <td>Bruce Green</td>\n",
       "      <td>John Debney</td>\n",
       "      <td>[New Line Cinema, Wayne Rice Films, Karz Enter...</td>\n",
       "      <td>Warner Bros. Pictures</td>\n",
       "      <td>...</td>\n",
       "      <td>5.7</td>\n",
       "      <td>34</td>\n",
       "      <td>119,426</td>\n",
       "      <td>18%</td>\n",
       "      <td>125.00</td>\n",
       "      <td>February12,2010</td>\n",
       "      <td>52000000.0</td>\n",
       "      <td>216500000.0</td>\n",
       "      <td>NaN</td>\n",
       "      <td>Katherine Fugate</td>\n",
       "    </tr>\n",
       "  </tbody>\n",
       "</table>\n",
       "<p>3 rows × 22 columns</p>\n",
       "</div>"
      ],
      "text/plain": [
       "              Title          Directed by                        Written by  \\\n",
       "0   The Book of Eli  The Hughes Brothers                       Gary Whitta   \n",
       "1  Edge of Darkness      Martin Campbell  [William Monahan, Andrew Bovell]   \n",
       "2   Valentine's Day       Garry Marshall                               NaN   \n",
       "\n",
       "                                         Produced by  \\\n",
       "0  [Joel Silver, Susan Downey, Andrew Kosove, Bro...   \n",
       "1     [Graham King, Tim Headington, Michael Wearing]   \n",
       "2                      [Mike Karz, Wayne Allan Rice]   \n",
       "\n",
       "                                            Starring  Cinematography  \\\n",
       "0  [Denzel Washington, Gary Oldman, Mila Kunis, R...     Don Burgess   \n",
       "1  [Mel Gibson, Ray Winstone, Danny Huston, Bojan...     Phil Meheux   \n",
       "2  [Jessica Alba, Kathy Bates, Jessica Biel, Brad...  Charles Minsky   \n",
       "\n",
       "      Edited by                                     Music by  \\\n",
       "0   Cindy Mollo  [Atticus Ross, Leopold Ross, Claudia Sarne]   \n",
       "1  Stuart Baird                                 Howard Shore   \n",
       "2   Bruce Green                                  John Debney   \n",
       "\n",
       "                                 Productioncompanies  \\\n",
       "0             [Alcon Entertainment, Silver Pictures]   \n",
       "1            [GK Films, BBC Films, Icon Productions]   \n",
       "2  [New Line Cinema, Wayne Rice Films, Karz Enter...   \n",
       "\n",
       "                                    Distributed by  ... ImdbRating MetaScore  \\\n",
       "0    [Warner Bros. Pictures, Summit Entertainment]  ...        6.8        53   \n",
       "1  [Icon Film Distribution, Warner Bros. Pictures]  ...        6.6        55   \n",
       "2                            Warner Bros. Pictures  ...        5.7        34   \n",
       "\n",
       "  ImdbVotes Rotten Tomatoes Running Time(min)     Release Date  \\\n",
       "0   314,016             47%            117.00   January15,2010   \n",
       "1    94,198             55%            117.00   January29,2010   \n",
       "2   119,426             18%            125.00  February12,2010   \n",
       "\n",
       "   Budget(dollar) box_office(dollar)                                 Based on  \\\n",
       "0      80000000.0        157100000.0                                      NaN   \n",
       "1      80000000.0         81100000.0  Edge of Darkness,by,Troy Kennedy Martin   \n",
       "2      52000000.0        216500000.0                                      NaN   \n",
       "\n",
       "      Screenplay by  \n",
       "0               NaN  \n",
       "1               NaN  \n",
       "2  Katherine Fugate  \n",
       "\n",
       "[3 rows x 22 columns]"
      ]
     },
     "execution_count": 73,
     "metadata": {},
     "output_type": "execute_result"
    }
   ],
   "source": [
    "# lets what our original cleaned dataset\n",
    "df3.head(3)"
   ]
  },
  {
   "cell_type": "markdown",
   "id": "d37a88cd",
   "metadata": {},
   "source": [
    "<p>First of all we do not need all the columns to see who was the best directors so lets take only the necessary one</p>"
   ]
  },
  {
   "cell_type": "code",
   "execution_count": 104,
   "id": "563477a9",
   "metadata": {},
   "outputs": [
    {
     "data": {
      "text/html": [
       "<div>\n",
       "<style scoped>\n",
       "    .dataframe tbody tr th:only-of-type {\n",
       "        vertical-align: middle;\n",
       "    }\n",
       "\n",
       "    .dataframe tbody tr th {\n",
       "        vertical-align: top;\n",
       "    }\n",
       "\n",
       "    .dataframe thead th {\n",
       "        text-align: right;\n",
       "    }\n",
       "</style>\n",
       "<table border=\"1\" class=\"dataframe\">\n",
       "  <thead>\n",
       "    <tr style=\"text-align: right;\">\n",
       "      <th></th>\n",
       "      <th>Title</th>\n",
       "      <th>Directed by</th>\n",
       "      <th>box_office(dollar)</th>\n",
       "      <th>Budget(dollar)</th>\n",
       "      <th>ImdbRating</th>\n",
       "    </tr>\n",
       "  </thead>\n",
       "  <tbody>\n",
       "    <tr>\n",
       "      <th>0</th>\n",
       "      <td>The Book of Eli</td>\n",
       "      <td>The Hughes Brothers</td>\n",
       "      <td>157100000.0</td>\n",
       "      <td>80000000.0</td>\n",
       "      <td>6.8</td>\n",
       "    </tr>\n",
       "    <tr>\n",
       "      <th>1</th>\n",
       "      <td>Edge of Darkness</td>\n",
       "      <td>Martin Campbell</td>\n",
       "      <td>81100000.0</td>\n",
       "      <td>80000000.0</td>\n",
       "      <td>6.6</td>\n",
       "    </tr>\n",
       "    <tr>\n",
       "      <th>2</th>\n",
       "      <td>Valentine's Day</td>\n",
       "      <td>Garry Marshall</td>\n",
       "      <td>216500000.0</td>\n",
       "      <td>52000000.0</td>\n",
       "      <td>5.7</td>\n",
       "    </tr>\n",
       "    <tr>\n",
       "      <th>3</th>\n",
       "      <td>Cop Out</td>\n",
       "      <td>Kevin Smith</td>\n",
       "      <td>55600000.0</td>\n",
       "      <td>30000000.0</td>\n",
       "      <td>5.6</td>\n",
       "    </tr>\n",
       "    <tr>\n",
       "      <th>4</th>\n",
       "      <td>Atithi Tum Kab Jaoge</td>\n",
       "      <td>Ashwni Dhir</td>\n",
       "      <td>NaN</td>\n",
       "      <td>NaN</td>\n",
       "      <td>6.4</td>\n",
       "    </tr>\n",
       "  </tbody>\n",
       "</table>\n",
       "</div>"
      ],
      "text/plain": [
       "                  Title          Directed by box_office(dollar)  \\\n",
       "0       The Book of Eli  The Hughes Brothers        157100000.0   \n",
       "1      Edge of Darkness      Martin Campbell         81100000.0   \n",
       "2       Valentine's Day       Garry Marshall        216500000.0   \n",
       "3               Cop Out          Kevin Smith         55600000.0   \n",
       "4  Atithi Tum Kab Jaoge          Ashwni Dhir                NaN   \n",
       "\n",
       "  Budget(dollar) ImdbRating  \n",
       "0     80000000.0        6.8  \n",
       "1     80000000.0        6.6  \n",
       "2     52000000.0        5.7  \n",
       "3     30000000.0        5.6  \n",
       "4            NaN        6.4  "
      ]
     },
     "execution_count": 104,
     "metadata": {},
     "output_type": "execute_result"
    }
   ],
   "source": [
    "df_direct = df3[['Title', 'Directed by', 'box_office(dollar)', 'Budget(dollar)', 'ImdbRating']]\n",
    "df_direct.head()"
   ]
  },
  {
   "cell_type": "markdown",
   "id": "af45110a",
   "metadata": {},
   "source": [
    "<p>A director can only be called successful if he has made a profit so lets make a profit column</p>"
   ]
  },
  {
   "cell_type": "code",
   "execution_count": 105,
   "id": "58c06f42",
   "metadata": {},
   "outputs": [
    {
     "data": {
      "text/plain": [
       "Title                 object\n",
       "Directed by           object\n",
       "box_office(dollar)    object\n",
       "Budget(dollar)        object\n",
       "ImdbRating            object\n",
       "dtype: object"
      ]
     },
     "execution_count": 105,
     "metadata": {},
     "output_type": "execute_result"
    }
   ],
   "source": [
    "df_direct.dtypes"
   ]
  },
  {
   "cell_type": "code",
   "execution_count": 106,
   "id": "c7d8b587",
   "metadata": {},
   "outputs": [
    {
     "name": "stderr",
     "output_type": "stream",
     "text": [
      "C:\\Program Files\\KMSpico\\temp\\ipykernel_16188\\3796336968.py:10: SettingWithCopyWarning: \n",
      "A value is trying to be set on a copy of a slice from a DataFrame.\n",
      "Try using .loc[row_indexer,col_indexer] = value instead\n",
      "\n",
      "See the caveats in the documentation: https://pandas.pydata.org/pandas-docs/stable/user_guide/indexing.html#returning-a-view-versus-a-copy\n",
      "  df_direct[columns] = df_direct[columns].applymap(get_float)\n"
     ]
    }
   ],
   "source": [
    "def get_float(x):\n",
    "    if not isinstance(x, str):\n",
    "        x = str(x)\n",
    "    try:\n",
    "        return float(''.join(x.split(',')))\n",
    "    except:\n",
    "        return np.nan\n",
    "        \n",
    "columns = df_direct.columns[2:]\n",
    "df_direct[columns] = df_direct[columns].applymap(get_float)"
   ]
  },
  {
   "cell_type": "code",
   "execution_count": 107,
   "id": "d11595fb",
   "metadata": {},
   "outputs": [
    {
     "name": "stderr",
     "output_type": "stream",
     "text": [
      "C:\\Program Files\\KMSpico\\temp\\ipykernel_16188\\445941394.py:1: SettingWithCopyWarning: \n",
      "A value is trying to be set on a copy of a slice from a DataFrame.\n",
      "Try using .loc[row_indexer,col_indexer] = value instead\n",
      "\n",
      "See the caveats in the documentation: https://pandas.pydata.org/pandas-docs/stable/user_guide/indexing.html#returning-a-view-versus-a-copy\n",
      "  df_direct['Profit'] = df_direct['box_office(dollar)'] - df_direct['Budget(dollar)']\n"
     ]
    }
   ],
   "source": [
    "df_direct['Profit'] = df_direct['box_office(dollar)'] - df_direct['Budget(dollar)']"
   ]
  },
  {
   "cell_type": "code",
   "execution_count": 108,
   "id": "dbccd4ca",
   "metadata": {},
   "outputs": [
    {
     "data": {
      "text/html": [
       "<div>\n",
       "<style scoped>\n",
       "    .dataframe tbody tr th:only-of-type {\n",
       "        vertical-align: middle;\n",
       "    }\n",
       "\n",
       "    .dataframe tbody tr th {\n",
       "        vertical-align: top;\n",
       "    }\n",
       "\n",
       "    .dataframe thead th {\n",
       "        text-align: right;\n",
       "    }\n",
       "</style>\n",
       "<table border=\"1\" class=\"dataframe\">\n",
       "  <thead>\n",
       "    <tr style=\"text-align: right;\">\n",
       "      <th></th>\n",
       "      <th>Title</th>\n",
       "      <th>Directed by</th>\n",
       "      <th>box_office(dollar)</th>\n",
       "      <th>Budget(dollar)</th>\n",
       "      <th>ImdbRating</th>\n",
       "      <th>Profit</th>\n",
       "    </tr>\n",
       "  </thead>\n",
       "  <tbody>\n",
       "    <tr>\n",
       "      <th>0</th>\n",
       "      <td>The Book of Eli</td>\n",
       "      <td>The Hughes Brothers</td>\n",
       "      <td>157100000.00</td>\n",
       "      <td>80000000.00</td>\n",
       "      <td>6.80</td>\n",
       "      <td>77100000.00</td>\n",
       "    </tr>\n",
       "    <tr>\n",
       "      <th>1</th>\n",
       "      <td>Edge of Darkness</td>\n",
       "      <td>Martin Campbell</td>\n",
       "      <td>81100000.00</td>\n",
       "      <td>80000000.00</td>\n",
       "      <td>6.60</td>\n",
       "      <td>1100000.00</td>\n",
       "    </tr>\n",
       "    <tr>\n",
       "      <th>2</th>\n",
       "      <td>Valentine's Day</td>\n",
       "      <td>Garry Marshall</td>\n",
       "      <td>216500000.00</td>\n",
       "      <td>52000000.00</td>\n",
       "      <td>5.70</td>\n",
       "      <td>164500000.00</td>\n",
       "    </tr>\n",
       "    <tr>\n",
       "      <th>3</th>\n",
       "      <td>Cop Out</td>\n",
       "      <td>Kevin Smith</td>\n",
       "      <td>55600000.00</td>\n",
       "      <td>30000000.00</td>\n",
       "      <td>5.60</td>\n",
       "      <td>25600000.00</td>\n",
       "    </tr>\n",
       "    <tr>\n",
       "      <th>4</th>\n",
       "      <td>Atithi Tum Kab Jaoge</td>\n",
       "      <td>Ashwni Dhir</td>\n",
       "      <td>NaN</td>\n",
       "      <td>NaN</td>\n",
       "      <td>6.40</td>\n",
       "      <td>NaN</td>\n",
       "    </tr>\n",
       "  </tbody>\n",
       "</table>\n",
       "</div>"
      ],
      "text/plain": [
       "                  Title          Directed by  box_office(dollar)  \\\n",
       "0       The Book of Eli  The Hughes Brothers        157100000.00   \n",
       "1      Edge of Darkness      Martin Campbell         81100000.00   \n",
       "2       Valentine's Day       Garry Marshall        216500000.00   \n",
       "3               Cop Out          Kevin Smith         55600000.00   \n",
       "4  Atithi Tum Kab Jaoge          Ashwni Dhir                 NaN   \n",
       "\n",
       "   Budget(dollar)  ImdbRating       Profit  \n",
       "0     80000000.00        6.80  77100000.00  \n",
       "1     80000000.00        6.60   1100000.00  \n",
       "2     52000000.00        5.70 164500000.00  \n",
       "3     30000000.00        5.60  25600000.00  \n",
       "4             NaN        6.40          NaN  "
      ]
     },
     "execution_count": 108,
     "metadata": {},
     "output_type": "execute_result"
    }
   ],
   "source": [
    "df_direct.head()"
   ]
  },
  {
   "cell_type": "markdown",
   "id": "187fbe14",
   "metadata": {},
   "source": [
    "<p>Lets try to see the directors unique values first</p>"
   ]
  },
  {
   "cell_type": "code",
   "execution_count": 109,
   "id": "8d5bac46",
   "metadata": {},
   "outputs": [
    {
     "ename": "TypeError",
     "evalue": "unhashable type: 'list'",
     "output_type": "error",
     "traceback": [
      "\u001b[1;31m---------------------------------------------------------------------------\u001b[0m",
      "\u001b[1;31mTypeError\u001b[0m                                 Traceback (most recent call last)",
      "Input \u001b[1;32mIn [109]\u001b[0m, in \u001b[0;36m<cell line: 1>\u001b[1;34m()\u001b[0m\n\u001b[1;32m----> 1\u001b[0m \u001b[43mdf_direct\u001b[49m\u001b[43m[\u001b[49m\u001b[38;5;124;43m'\u001b[39;49m\u001b[38;5;124;43mDirected by\u001b[39;49m\u001b[38;5;124;43m'\u001b[39;49m\u001b[43m]\u001b[49m\u001b[38;5;241;43m.\u001b[39;49m\u001b[43munique\u001b[49m\u001b[43m(\u001b[49m\u001b[43m)\u001b[49m\n",
      "File \u001b[1;32mF:\\anaconda-env\\warner_bros_env\\lib\\site-packages\\pandas\\core\\series.py:2088\u001b[0m, in \u001b[0;36mSeries.unique\u001b[1;34m(self)\u001b[0m\n\u001b[0;32m   2030\u001b[0m \u001b[38;5;28;01mdef\u001b[39;00m \u001b[38;5;21munique\u001b[39m(\u001b[38;5;28mself\u001b[39m) \u001b[38;5;241m-\u001b[39m\u001b[38;5;241m>\u001b[39m ArrayLike:\n\u001b[0;32m   2031\u001b[0m     \u001b[38;5;124;03m\"\"\"\u001b[39;00m\n\u001b[0;32m   2032\u001b[0m \u001b[38;5;124;03m    Return unique values of Series object.\u001b[39;00m\n\u001b[0;32m   2033\u001b[0m \n\u001b[1;32m   (...)\u001b[0m\n\u001b[0;32m   2086\u001b[0m \u001b[38;5;124;03m    Categories (3, object): ['a' < 'b' < 'c']\u001b[39;00m\n\u001b[0;32m   2087\u001b[0m \u001b[38;5;124;03m    \"\"\"\u001b[39;00m\n\u001b[1;32m-> 2088\u001b[0m     \u001b[38;5;28;01mreturn\u001b[39;00m \u001b[38;5;28;43msuper\u001b[39;49m\u001b[43m(\u001b[49m\u001b[43m)\u001b[49m\u001b[38;5;241;43m.\u001b[39;49m\u001b[43munique\u001b[49m\u001b[43m(\u001b[49m\u001b[43m)\u001b[49m\n",
      "File \u001b[1;32mF:\\anaconda-env\\warner_bros_env\\lib\\site-packages\\pandas\\core\\base.py:989\u001b[0m, in \u001b[0;36mIndexOpsMixin.unique\u001b[1;34m(self)\u001b[0m\n\u001b[0;32m    987\u001b[0m             result \u001b[38;5;241m=\u001b[39m np\u001b[38;5;241m.\u001b[39masarray(result)\n\u001b[0;32m    988\u001b[0m \u001b[38;5;28;01melse\u001b[39;00m:\n\u001b[1;32m--> 989\u001b[0m     result \u001b[38;5;241m=\u001b[39m \u001b[43munique1d\u001b[49m\u001b[43m(\u001b[49m\u001b[43mvalues\u001b[49m\u001b[43m)\u001b[49m\n\u001b[0;32m    991\u001b[0m \u001b[38;5;28;01mreturn\u001b[39;00m result\n",
      "File \u001b[1;32mF:\\anaconda-env\\warner_bros_env\\lib\\site-packages\\pandas\\core\\algorithms.py:440\u001b[0m, in \u001b[0;36munique\u001b[1;34m(values)\u001b[0m\n\u001b[0;32m    437\u001b[0m htable, values \u001b[38;5;241m=\u001b[39m _get_hashtable_algo(values)\n\u001b[0;32m    439\u001b[0m table \u001b[38;5;241m=\u001b[39m htable(\u001b[38;5;28mlen\u001b[39m(values))\n\u001b[1;32m--> 440\u001b[0m uniques \u001b[38;5;241m=\u001b[39m \u001b[43mtable\u001b[49m\u001b[38;5;241;43m.\u001b[39;49m\u001b[43munique\u001b[49m\u001b[43m(\u001b[49m\u001b[43mvalues\u001b[49m\u001b[43m)\u001b[49m\n\u001b[0;32m    441\u001b[0m uniques \u001b[38;5;241m=\u001b[39m _reconstruct_data(uniques, original\u001b[38;5;241m.\u001b[39mdtype, original)\n\u001b[0;32m    442\u001b[0m \u001b[38;5;28;01mreturn\u001b[39;00m uniques\n",
      "File \u001b[1;32mpandas\\_libs\\hashtable_class_helper.pxi:5361\u001b[0m, in \u001b[0;36mpandas._libs.hashtable.PyObjectHashTable.unique\u001b[1;34m()\u001b[0m\n",
      "File \u001b[1;32mpandas\\_libs\\hashtable_class_helper.pxi:5310\u001b[0m, in \u001b[0;36mpandas._libs.hashtable.PyObjectHashTable._unique\u001b[1;34m()\u001b[0m\n",
      "\u001b[1;31mTypeError\u001b[0m: unhashable type: 'list'"
     ]
    }
   ],
   "source": [
    "df_direct['Directed by'].unique()"
   ]
  },
  {
   "cell_type": "markdown",
   "id": "3bf79ef3",
   "metadata": {},
   "source": [
    "<p>It seems that list present in directed by column. To see which rows they we can do this--></p>"
   ]
  },
  {
   "cell_type": "code",
   "execution_count": 110,
   "id": "aaed0693",
   "metadata": {},
   "outputs": [
    {
     "name": "stdout",
     "output_type": "stream",
     "text": [
      "Index value 46 with list  ['Peter Farrelly', 'Bobby Farrelly'])\n",
      "Index value 59 with list  ['Glenn Ficarra', 'John Requa'])\n",
      "Index value 98 with list  ['Lana Wachowski', 'Tom Tykwer', 'Lilly Wachowski'])\n",
      "Index value 107 with list  ['David Pastor', 'Àlex Pastor'])\n",
      "Index value 128 with list  ['Kentarō Ōtani', 'Keiichi Satō'])\n",
      "Index value 130 with list  ['Phil Lord', 'Christopher Miller'])\n",
      "Index value 160 with list  ['Glenn Ficarra', 'John Requa'])\n",
      "Index value 173 with list  ['Chris Lofing', 'Travis Cluff'])\n",
      "Index value 174 with list  ['Jonathan Goldstein', 'John Francis Daley'])\n",
      "Index value 210 with list  ['Nicholas Stoller', 'Doug Sweetland'])\n",
      "Index value 243 with list  ['Charlie Bean', 'Paul Fisher', 'Bob Logan'])\n",
      "Index value 258 with list  ['John Francis Daley', 'Jonathan Goldstein'])\n",
      "Index value 265 with list  ['Peter Rida Michail', 'Aaron Horvath'])\n"
     ]
    }
   ],
   "source": [
    "for index, value in enumerate(df_direct['Directed by']):\n",
    "    if isinstance(value, list):\n",
    "        print(f\"Index value {index} with list  {value})\")"
   ]
  },
  {
   "cell_type": "markdown",
   "id": "34c578d5",
   "metadata": {},
   "source": [
    "<p>What we can do is that we can take the values of each list and make new row out of them. Luckily for us there is method in pandas for doing this</p>"
   ]
  },
  {
   "cell_type": "code",
   "execution_count": 111,
   "id": "8d616c02",
   "metadata": {},
   "outputs": [
    {
     "data": {
      "text/html": [
       "<div>\n",
       "<style scoped>\n",
       "    .dataframe tbody tr th:only-of-type {\n",
       "        vertical-align: middle;\n",
       "    }\n",
       "\n",
       "    .dataframe tbody tr th {\n",
       "        vertical-align: top;\n",
       "    }\n",
       "\n",
       "    .dataframe thead th {\n",
       "        text-align: right;\n",
       "    }\n",
       "</style>\n",
       "<table border=\"1\" class=\"dataframe\">\n",
       "  <thead>\n",
       "    <tr style=\"text-align: right;\">\n",
       "      <th></th>\n",
       "      <th>Title</th>\n",
       "      <th>Directed by</th>\n",
       "      <th>box_office(dollar)</th>\n",
       "      <th>Budget(dollar)</th>\n",
       "      <th>ImdbRating</th>\n",
       "      <th>Profit</th>\n",
       "    </tr>\n",
       "  </thead>\n",
       "  <tbody>\n",
       "    <tr>\n",
       "      <th>0</th>\n",
       "      <td>The Book of Eli</td>\n",
       "      <td>The Hughes Brothers</td>\n",
       "      <td>157100000.00</td>\n",
       "      <td>80000000.00</td>\n",
       "      <td>6.80</td>\n",
       "      <td>77100000.00</td>\n",
       "    </tr>\n",
       "    <tr>\n",
       "      <th>1</th>\n",
       "      <td>Edge of Darkness</td>\n",
       "      <td>Martin Campbell</td>\n",
       "      <td>81100000.00</td>\n",
       "      <td>80000000.00</td>\n",
       "      <td>6.60</td>\n",
       "      <td>1100000.00</td>\n",
       "    </tr>\n",
       "    <tr>\n",
       "      <th>2</th>\n",
       "      <td>Valentine's Day</td>\n",
       "      <td>Garry Marshall</td>\n",
       "      <td>216500000.00</td>\n",
       "      <td>52000000.00</td>\n",
       "      <td>5.70</td>\n",
       "      <td>164500000.00</td>\n",
       "    </tr>\n",
       "    <tr>\n",
       "      <th>3</th>\n",
       "      <td>Cop Out</td>\n",
       "      <td>Kevin Smith</td>\n",
       "      <td>55600000.00</td>\n",
       "      <td>30000000.00</td>\n",
       "      <td>5.60</td>\n",
       "      <td>25600000.00</td>\n",
       "    </tr>\n",
       "    <tr>\n",
       "      <th>4</th>\n",
       "      <td>Atithi Tum Kab Jaoge</td>\n",
       "      <td>Ashwni Dhir</td>\n",
       "      <td>NaN</td>\n",
       "      <td>NaN</td>\n",
       "      <td>6.40</td>\n",
       "      <td>NaN</td>\n",
       "    </tr>\n",
       "  </tbody>\n",
       "</table>\n",
       "</div>"
      ],
      "text/plain": [
       "                  Title          Directed by  box_office(dollar)  \\\n",
       "0       The Book of Eli  The Hughes Brothers        157100000.00   \n",
       "1      Edge of Darkness      Martin Campbell         81100000.00   \n",
       "2       Valentine's Day       Garry Marshall        216500000.00   \n",
       "3               Cop Out          Kevin Smith         55600000.00   \n",
       "4  Atithi Tum Kab Jaoge          Ashwni Dhir                 NaN   \n",
       "\n",
       "   Budget(dollar)  ImdbRating       Profit  \n",
       "0     80000000.00        6.80  77100000.00  \n",
       "1     80000000.00        6.60   1100000.00  \n",
       "2     52000000.00        5.70 164500000.00  \n",
       "3     30000000.00        5.60  25600000.00  \n",
       "4             NaN        6.40          NaN  "
      ]
     },
     "execution_count": 111,
     "metadata": {},
     "output_type": "execute_result"
    }
   ],
   "source": [
    "df_direct1 = df_direct.explode('Directed by', ignore_index=True)\n",
    "df_direct1.head()"
   ]
  },
  {
   "cell_type": "code",
   "execution_count": 112,
   "id": "45c84dd4",
   "metadata": {},
   "outputs": [
    {
     "data": {
      "text/html": [
       "<div>\n",
       "<style scoped>\n",
       "    .dataframe tbody tr th:only-of-type {\n",
       "        vertical-align: middle;\n",
       "    }\n",
       "\n",
       "    .dataframe tbody tr th {\n",
       "        vertical-align: top;\n",
       "    }\n",
       "\n",
       "    .dataframe thead th {\n",
       "        text-align: right;\n",
       "    }\n",
       "</style>\n",
       "<table border=\"1\" class=\"dataframe\">\n",
       "  <thead>\n",
       "    <tr style=\"text-align: right;\">\n",
       "      <th></th>\n",
       "      <th>Title</th>\n",
       "      <th>Directed by</th>\n",
       "      <th>box_office(dollar)</th>\n",
       "      <th>Budget(dollar)</th>\n",
       "      <th>ImdbRating</th>\n",
       "      <th>Profit</th>\n",
       "    </tr>\n",
       "  </thead>\n",
       "  <tbody>\n",
       "    <tr>\n",
       "      <th>43</th>\n",
       "      <td>Kokowääh</td>\n",
       "      <td>Til Schweiger</td>\n",
       "      <td>45400000.00</td>\n",
       "      <td>NaN</td>\n",
       "      <td>6.30</td>\n",
       "      <td>NaN</td>\n",
       "    </tr>\n",
       "    <tr>\n",
       "      <th>44</th>\n",
       "      <td>Utt Pataang</td>\n",
       "      <td>Srikanth V. Velagaleti</td>\n",
       "      <td>NaN</td>\n",
       "      <td>NaN</td>\n",
       "      <td>6.00</td>\n",
       "      <td>NaN</td>\n",
       "    </tr>\n",
       "    <tr>\n",
       "      <th>45</th>\n",
       "      <td>Unknown</td>\n",
       "      <td>Jaume Collet-Serra</td>\n",
       "      <td>136100000.00</td>\n",
       "      <td>30000000.00</td>\n",
       "      <td>6.80</td>\n",
       "      <td>106100000.00</td>\n",
       "    </tr>\n",
       "    <tr>\n",
       "      <th>46</th>\n",
       "      <td>Hall Pass</td>\n",
       "      <td>Peter Farrelly</td>\n",
       "      <td>83200000.00</td>\n",
       "      <td>36000000.00</td>\n",
       "      <td>5.90</td>\n",
       "      <td>47200000.00</td>\n",
       "    </tr>\n",
       "    <tr>\n",
       "      <th>47</th>\n",
       "      <td>Hall Pass</td>\n",
       "      <td>Bobby Farrelly</td>\n",
       "      <td>83200000.00</td>\n",
       "      <td>36000000.00</td>\n",
       "      <td>5.90</td>\n",
       "      <td>47200000.00</td>\n",
       "    </tr>\n",
       "    <tr>\n",
       "      <th>48</th>\n",
       "      <td>And Then What?</td>\n",
       "      <td>Özcan Deniz</td>\n",
       "      <td>4711624.00</td>\n",
       "      <td>5000000.00</td>\n",
       "      <td>NaN</td>\n",
       "      <td>-288376.00</td>\n",
       "    </tr>\n",
       "    <tr>\n",
       "      <th>49</th>\n",
       "      <td>Ironclad</td>\n",
       "      <td>Jonathan English</td>\n",
       "      <td>NaN</td>\n",
       "      <td>25000000.00</td>\n",
       "      <td>6.10</td>\n",
       "      <td>NaN</td>\n",
       "    </tr>\n",
       "    <tr>\n",
       "      <th>50</th>\n",
       "      <td>Red Riding Hood</td>\n",
       "      <td>Catherine Hardwicke</td>\n",
       "      <td>90200000.00</td>\n",
       "      <td>42000000.00</td>\n",
       "      <td>5.40</td>\n",
       "      <td>48200000.00</td>\n",
       "    </tr>\n",
       "  </tbody>\n",
       "</table>\n",
       "</div>"
      ],
      "text/plain": [
       "              Title             Directed by  box_office(dollar)  \\\n",
       "43         Kokowääh           Til Schweiger         45400000.00   \n",
       "44      Utt Pataang  Srikanth V. Velagaleti                 NaN   \n",
       "45          Unknown      Jaume Collet-Serra        136100000.00   \n",
       "46        Hall Pass          Peter Farrelly         83200000.00   \n",
       "47        Hall Pass          Bobby Farrelly         83200000.00   \n",
       "48   And Then What?             Özcan Deniz          4711624.00   \n",
       "49         Ironclad        Jonathan English                 NaN   \n",
       "50  Red Riding Hood     Catherine Hardwicke         90200000.00   \n",
       "\n",
       "    Budget(dollar)  ImdbRating       Profit  \n",
       "43             NaN        6.30          NaN  \n",
       "44             NaN        6.00          NaN  \n",
       "45     30000000.00        6.80 106100000.00  \n",
       "46     36000000.00        5.90  47200000.00  \n",
       "47     36000000.00        5.90  47200000.00  \n",
       "48      5000000.00         NaN   -288376.00  \n",
       "49     25000000.00        6.10          NaN  \n",
       "50     42000000.00        5.40  48200000.00  "
      ]
     },
     "execution_count": 112,
     "metadata": {},
     "output_type": "execute_result"
    }
   ],
   "source": [
    "df_direct1.loc[43:50]"
   ]
  },
  {
   "cell_type": "markdown",
   "id": "60501876",
   "metadata": {},
   "source": [
    "<p>We can see that new rows were created at for value in a list</p>"
   ]
  },
  {
   "cell_type": "markdown",
   "id": "617a4fad",
   "metadata": {},
   "source": [
    "<p>Now lets drop those columns which does not have null profit value</p>"
   ]
  },
  {
   "cell_type": "code",
   "execution_count": 113,
   "id": "f6b6f25e",
   "metadata": {},
   "outputs": [
    {
     "data": {
      "text/plain": [
       "(303, 6)"
      ]
     },
     "execution_count": 113,
     "metadata": {},
     "output_type": "execute_result"
    }
   ],
   "source": [
    "# orignal shape of the director dataset\n",
    "df_direct.shape"
   ]
  },
  {
   "cell_type": "code",
   "execution_count": 114,
   "id": "5d24a0b4",
   "metadata": {},
   "outputs": [
    {
     "data": {
      "text/plain": [
       "(235, 6)"
      ]
     },
     "execution_count": 114,
     "metadata": {},
     "output_type": "execute_result"
    }
   ],
   "source": [
    "df_direct2 = df_direct1.dropna(subset='Profit')\n",
    "df_direct2.shape"
   ]
  },
  {
   "cell_type": "markdown",
   "id": "1830b026",
   "metadata": {},
   "source": [
    "<p>Lets grouby the directed by column and get mean of each group(here each group is one person)</p>"
   ]
  },
  {
   "cell_type": "code",
   "execution_count": 115,
   "id": "8474edb1",
   "metadata": {},
   "outputs": [],
   "source": [
    "directors = df_direct2.groupby('Directed by').mean()['Profit'].sort_values(ascending=False)"
   ]
  },
  {
   "cell_type": "code",
   "execution_count": 126,
   "id": "6a54dabe",
   "metadata": {},
   "outputs": [
    {
     "data": {
      "text/plain": [
       "Directed by\n",
       "Peter Jackson    760066666.67\n",
       "Patty Jenkins    702800000.00\n",
       "Alfonso Cuarón   643200000.00\n",
       "David Ayer       571800000.00\n",
       "David Yates      549540000.00\n",
       "Name: Profit, dtype: float64"
      ]
     },
     "execution_count": 126,
     "metadata": {},
     "output_type": "execute_result"
    }
   ],
   "source": [
    "directors.head()"
   ]
  },
  {
   "cell_type": "markdown",
   "id": "d8ccac50",
   "metadata": {},
   "source": [
    "<p>They were the best directors</p>"
   ]
  },
  {
   "cell_type": "code",
   "execution_count": 124,
   "id": "21834de8",
   "metadata": {},
   "outputs": [],
   "source": [
    "# The pictures they have worked on \n",
    "\n",
    "df_direct3 = df_direct.set_index('Directed by')"
   ]
  },
  {
   "cell_type": "code",
   "execution_count": 139,
   "id": "763f8e7f",
   "metadata": {},
   "outputs": [
    {
     "data": {
      "text/html": [
       "<div>\n",
       "<style scoped>\n",
       "    .dataframe tbody tr th:only-of-type {\n",
       "        vertical-align: middle;\n",
       "    }\n",
       "\n",
       "    .dataframe tbody tr th {\n",
       "        vertical-align: top;\n",
       "    }\n",
       "\n",
       "    .dataframe thead th {\n",
       "        text-align: right;\n",
       "    }\n",
       "</style>\n",
       "<table border=\"1\" class=\"dataframe\">\n",
       "  <thead>\n",
       "    <tr style=\"text-align: right;\">\n",
       "      <th></th>\n",
       "      <th>Title</th>\n",
       "      <th>box_office(dollar)</th>\n",
       "      <th>Budget(dollar)</th>\n",
       "      <th>ImdbRating</th>\n",
       "      <th>Profit</th>\n",
       "    </tr>\n",
       "    <tr>\n",
       "      <th>Directed by</th>\n",
       "      <th></th>\n",
       "      <th></th>\n",
       "      <th></th>\n",
       "      <th></th>\n",
       "      <th></th>\n",
       "    </tr>\n",
       "  </thead>\n",
       "  <tbody>\n",
       "    <tr>\n",
       "      <th>Peter Jackson</th>\n",
       "      <td>The Hobbit: An Unexpected Journey</td>\n",
       "      <td>1000000000.00</td>\n",
       "      <td>200000000.00</td>\n",
       "      <td>7.80</td>\n",
       "      <td>800000000.00</td>\n",
       "    </tr>\n",
       "    <tr>\n",
       "      <th>Peter Jackson</th>\n",
       "      <td>The Hobbit:The Desolation of Smaug</td>\n",
       "      <td>959000000.00</td>\n",
       "      <td>191000000.00</td>\n",
       "      <td>7.80</td>\n",
       "      <td>768000000.00</td>\n",
       "    </tr>\n",
       "    <tr>\n",
       "      <th>Peter Jackson</th>\n",
       "      <td>The Hobbit:The Battle of the Five Armies</td>\n",
       "      <td>962200000.00</td>\n",
       "      <td>250000000.00</td>\n",
       "      <td>7.40</td>\n",
       "      <td>712200000.00</td>\n",
       "    </tr>\n",
       "  </tbody>\n",
       "</table>\n",
       "</div>"
      ],
      "text/plain": [
       "                                                  Title  box_office(dollar)  \\\n",
       "Directed by                                                                   \n",
       "Peter Jackson         The Hobbit: An Unexpected Journey       1000000000.00   \n",
       "Peter Jackson        The Hobbit:The Desolation of Smaug        959000000.00   \n",
       "Peter Jackson  The Hobbit:The Battle of the Five Armies        962200000.00   \n",
       "\n",
       "               Budget(dollar)  ImdbRating       Profit  \n",
       "Directed by                                             \n",
       "Peter Jackson    200000000.00        7.80 800000000.00  \n",
       "Peter Jackson    191000000.00        7.80 768000000.00  \n",
       "Peter Jackson    250000000.00        7.40 712200000.00  "
      ]
     },
     "execution_count": 139,
     "metadata": {},
     "output_type": "execute_result"
    }
   ],
   "source": [
    "# first five people\n",
    "people = directors.index[:5]\n",
    "# df_direct3.loc[people]\n",
    "df_direct3.loc['Peter Jackson']\n",
    "# df_direct3.iloc[[3, 5]]"
   ]
  }
 ],
 "metadata": {
  "kernelspec": {
   "display_name": "Python 3 (ipykernel)",
   "language": "python",
   "name": "python3"
  },
  "language_info": {
   "codemirror_mode": {
    "name": "ipython",
    "version": 3
   },
   "file_extension": ".py",
   "mimetype": "text/x-python",
   "name": "python",
   "nbconvert_exporter": "python",
   "pygments_lexer": "ipython3",
   "version": "3.9.12"
  }
 },
 "nbformat": 4,
 "nbformat_minor": 5
}
