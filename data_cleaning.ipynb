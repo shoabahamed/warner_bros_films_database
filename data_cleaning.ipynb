{
 "cells": [
  {
   "cell_type": "markdown",
   "id": "653bb4d9",
   "metadata": {},
   "source": [
    "<h3>Importing necessary modules</h3>"
   ]
  },
  {
   "cell_type": "code",
   "execution_count": 1,
   "id": "3e7d0f53",
   "metadata": {},
   "outputs": [],
   "source": [
    "import json\n",
    "import re"
   ]
  },
  {
   "cell_type": "code",
   "execution_count": 2,
   "id": "b099be85",
   "metadata": {},
   "outputs": [
    {
     "data": {
      "text/plain": [
       "335"
      ]
     },
     "execution_count": 2,
     "metadata": {},
     "output_type": "execute_result"
    }
   ],
   "source": [
    "with open('./files/movie_dataset.json', 'r', encoding='utf-8') as file:\n",
    "    dataset = json.load(file)\n",
    "\n",
    "len(dataset)"
   ]
  },
  {
   "cell_type": "code",
   "execution_count": 3,
   "id": "a7dc3b12",
   "metadata": {},
   "outputs": [
    {
     "data": {
      "text/plain": [
       "{'Sucker_Punch_(2011_film)': {'Title': 'Sucker Punch',\n",
       "  'Directed by': 'Zack Snyder',\n",
       "  'Screenplay by': ['Zack Snyder', 'Steve Shibuya'],\n",
       "  'Story by': 'Zack Snyder',\n",
       "  'Produced by': ['Deborah Snyder', 'Zack Snyder'],\n",
       "  'Starring': ['Emily Browning',\n",
       "   'Abbie Cornish',\n",
       "   'Jena Malone',\n",
       "   'Vanessa Hudgens',\n",
       "   'Jamie Chung',\n",
       "   'Carla Gugino',\n",
       "   'Oscar Isaac',\n",
       "   'Jon Hamm',\n",
       "   'Scott Glenn'],\n",
       "  'Cinematography': 'Larry Fong',\n",
       "  'Edited by': 'William Hoy',\n",
       "  'Music by': ['Tyler Bates', 'Marius de Vries'],\n",
       "  'Productioncompanies': ['Legendary Pictures', 'Cruel and Unusual Films'],\n",
       "  'Distributed by': 'Warner Bros. Pictures',\n",
       "  'Release date': ['March25,2011'],\n",
       "  'Running time': '109 minutes',\n",
       "  'Countries': ['United States', 'Canada'],\n",
       "  'Language': 'English',\n",
       "  'Budget': '$82 million',\n",
       "  'Box office': '$89.8 million'}}"
      ]
     },
     "execution_count": 3,
     "metadata": {},
     "output_type": "execute_result"
    }
   ],
   "source": [
    "dataset[54]"
   ]
  },
  {
   "cell_type": "markdown",
   "id": "0e56c1fc",
   "metadata": {},
   "source": [
    "<h2>I do not like how the date is ditributed. We should change it a little for better access</h2>"
   ]
  },
  {
   "cell_type": "code",
   "execution_count": 4,
   "id": "53df258a",
   "metadata": {},
   "outputs": [],
   "source": [
    "movie_dataset = []\n",
    "for info_table in dataset:\n",
    "    for key, table in info_table.items():\n",
    "        movie_dataset.append(table)"
   ]
  },
  {
   "cell_type": "code",
   "execution_count": 5,
   "id": "9d00105b",
   "metadata": {},
   "outputs": [
    {
     "data": {
      "text/plain": [
       "{'Title': 'The Book of Eli',\n",
       " 'Directed by': 'The Hughes Brothers',\n",
       " 'Written by': 'Gary Whitta',\n",
       " 'Produced by': ['Joel Silver',\n",
       "  'Susan Downey',\n",
       "  'Andrew Kosove',\n",
       "  'Broderick Johnson',\n",
       "  'Denzel Washington'],\n",
       " 'Starring': ['Denzel Washington',\n",
       "  'Gary Oldman',\n",
       "  'Mila Kunis',\n",
       "  'Ray Stevenson',\n",
       "  'Jennifer Beals',\n",
       "  'Frances de la Tour',\n",
       "  'Michael Gambon'],\n",
       " 'Cinematography': 'Don Burgess',\n",
       " 'Edited by': 'Cindy Mollo',\n",
       " 'Music by': ['Atticus Ross', 'Leopold Ross', 'Claudia Sarne'],\n",
       " 'Productioncompanies': ['Alcon Entertainment', 'Silver Pictures'],\n",
       " 'Distributed by': ['Warner Bros. Pictures', 'Summit Entertainment'],\n",
       " 'Release date': ['January15,2010'],\n",
       " 'Running time': '117 minutes',\n",
       " 'Country': 'United States',\n",
       " 'Language': 'English',\n",
       " 'Budget': '$80 million',\n",
       " 'Box office': '$157.1 million'}"
      ]
     },
     "execution_count": 5,
     "metadata": {},
     "output_type": "execute_result"
    }
   ],
   "source": [
    "movie_dataset[0]"
   ]
  },
  {
   "cell_type": "code",
   "execution_count": 6,
   "id": "68a13bc8",
   "metadata": {},
   "outputs": [],
   "source": [
    "# to get all values of desired key\n",
    "def show_info(dataset, key):\n",
    "    new_value_list = []\n",
    "    for table in dataset:\n",
    "        new_value_list.append(table.get(key))\n",
    "            \n",
    "    return new_value_list\n",
    "        \n",
    "running_times = show_info(movie_dataset, \"Running time\")"
   ]
  },
  {
   "cell_type": "code",
   "execution_count": 7,
   "id": "25af9451",
   "metadata": {},
   "outputs": [
    {
     "name": "stdout",
     "output_type": "stream",
     "text": [
      "['117 minutes', '117 minutes', '125 minutes', '107 minutes', '115 minutes', '43 minutes', '93 minutes', '126 minutes', '87 minutes', '87 minutes', '108 minutes', '115 minutes', '97 minutes', '97 minutes', '95 minutes', '146 minutes', '104 minutes', '109 minutes', '81 minutes', '148 minutes', '82 minutes', '90 minutes', '99 minutes', '79 minutes', None, '102 minutes', '124 minutes', '97 minutes', '115 minutes', '102 minutes', '98 minutes', None, '123 minutes', '129 minutes', '95 minutes', '103 minutes', '146 minutes', '108 minutes', '118 minutes', None, '93 minutes', '80 minutes', '107 minutes', '94 minutes', '97 minutes', '113 minutes', '126 minutes', None, '113 minutes', '105 minutes', '105 minutes', '121 minutes', '100 minutes', '90 minutes', '109 minutes', '107 minutes', '40 minutes', '112 minutes', '101 minutes', '114 minutes', '92 minutes', '98 minutes', '130 minutes', '118 minutes', '92 minutes', '120 minutes', '106 minutes', '91 minutes', '114 minutes', None, '92 minutes', None, '100 minutes', '93 minutes', '89 minutes', '137 minutes', '100 minutes', '130 minutes', '123 minutes', '108 minutes']\n"
     ]
    }
   ],
   "source": [
    "print(running_times[:80])"
   ]
  },
  {
   "cell_type": "markdown",
   "id": "e5c19d6b",
   "metadata": {},
   "source": [
    "<h3>We can see that running time is either has minutes, none or a list. Lets clean them up a bit</h3>"
   ]
  },
  {
   "cell_type": "code",
   "execution_count": 8,
   "id": "270548cb",
   "metadata": {},
   "outputs": [],
   "source": [
    "# lets create function to do the job\n",
    "\n",
    "def get_running_time(value):\n",
    "    if value == \"NAN\":\n",
    "        return \"NAN\"\n",
    "    \n",
    "    elif isinstance(value, list):\n",
    "        return get_running_time(value[0]) # we will just return first value in the list \n",
    "    \n",
    "    return value.split()[0]"
   ]
  },
  {
   "cell_type": "code",
   "execution_count": 9,
   "id": "f86bf024",
   "metadata": {},
   "outputs": [],
   "source": [
    "for table in movie_dataset:\n",
    "    running_time = table.pop('Running time', \"NAN\") # getting running time value and deleting key\n",
    "            \n",
    "    new_running_time = get_running_time(running_time)\n",
    "        \n",
    "    table['Running Time(min)'] = new_running_time"
   ]
  },
  {
   "cell_type": "code",
   "execution_count": 10,
   "id": "133b5d18",
   "metadata": {},
   "outputs": [
    {
     "name": "stdout",
     "output_type": "stream",
     "text": [
      "['92', '98', '130', '118', '92', '120', '106', '91', '114', 'NAN', '92', 'NAN', '100', '93', '89', '137', '100', '130', '123', '108', '118', '129', '129', '118', '94', '150', '95', '88', '99', '100']\n"
     ]
    }
   ],
   "source": [
    "print(show_info(movie_dataset, \"Running Time(min)\")[60:90])"
   ]
  },
  {
   "cell_type": "code",
   "execution_count": 11,
   "id": "605cd7f1",
   "metadata": {},
   "outputs": [
    {
     "name": "stdout",
     "output_type": "stream",
     "text": [
      "Running time(min) with values: 324\n"
     ]
    }
   ],
   "source": [
    "count = 0\n",
    "\n",
    "for table in movie_dataset:\n",
    "    run_time = table['Running Time(min)']\n",
    "    if run_time == \"NAN\":\n",
    "        continue \n",
    "    count += 1\n",
    "\n",
    "print(f\"Running time(min) with values: {count}\")"
   ]
  },
  {
   "cell_type": "markdown",
   "id": "5b0ce8fc",
   "metadata": {},
   "source": [
    "<h3>We have most of the films running time and only 11 are NAN or None values</h3>"
   ]
  },
  {
   "cell_type": "code",
   "execution_count": 12,
   "id": "f79e94ae",
   "metadata": {},
   "outputs": [
    {
     "data": {
      "text/plain": [
       "{'Title': 'The Book of Eli',\n",
       " 'Directed by': 'The Hughes Brothers',\n",
       " 'Written by': 'Gary Whitta',\n",
       " 'Produced by': ['Joel Silver',\n",
       "  'Susan Downey',\n",
       "  'Andrew Kosove',\n",
       "  'Broderick Johnson',\n",
       "  'Denzel Washington'],\n",
       " 'Starring': ['Denzel Washington',\n",
       "  'Gary Oldman',\n",
       "  'Mila Kunis',\n",
       "  'Ray Stevenson',\n",
       "  'Jennifer Beals',\n",
       "  'Frances de la Tour',\n",
       "  'Michael Gambon'],\n",
       " 'Cinematography': 'Don Burgess',\n",
       " 'Edited by': 'Cindy Mollo',\n",
       " 'Music by': ['Atticus Ross', 'Leopold Ross', 'Claudia Sarne'],\n",
       " 'Productioncompanies': ['Alcon Entertainment', 'Silver Pictures'],\n",
       " 'Distributed by': ['Warner Bros. Pictures', 'Summit Entertainment'],\n",
       " 'Release date': ['January15,2010'],\n",
       " 'Country': 'United States',\n",
       " 'Language': 'English',\n",
       " 'Budget': '$80 million',\n",
       " 'Box office': '$157.1 million',\n",
       " 'Running Time(min)': '117'}"
      ]
     },
     "execution_count": 12,
     "metadata": {},
     "output_type": "execute_result"
    }
   ],
   "source": [
    "movie_dataset[0]"
   ]
  },
  {
   "cell_type": "markdown",
   "id": "c4ccef49",
   "metadata": {},
   "source": [
    "<h3>Lets get the relases date ot release dates from the dataset</h3>"
   ]
  },
  {
   "cell_type": "markdown",
   "id": "0a8093e1",
   "metadata": {},
   "source": [
    "<h2>For simplicity we will only take the first match</h2>"
   ]
  },
  {
   "cell_type": "code",
   "execution_count": 13,
   "id": "1ee99e01",
   "metadata": {},
   "outputs": [
    {
     "data": {
      "text/plain": [
       "135"
      ]
     },
     "execution_count": 13,
     "metadata": {},
     "output_type": "execute_result"
    }
   ],
   "source": [
    "# to get the values only when they do not have null value\n",
    "release_date = [value for value in show_info(movie_dataset, \"Release date\") if value]\n",
    "len(release_date)"
   ]
  },
  {
   "cell_type": "code",
   "execution_count": 14,
   "id": "8fe2ad24",
   "metadata": {},
   "outputs": [
    {
     "data": {
      "text/plain": [
       "200"
      ]
     },
     "execution_count": 14,
     "metadata": {},
     "output_type": "execute_result"
    }
   ],
   "source": [
    "# to get release_dates as there were key values release date or release dates\n",
    "release_dates = [value for value in show_info(movie_dataset, \"Release dates\") if value]\n",
    "len(release_dates)"
   ]
  },
  {
   "cell_type": "code",
   "execution_count": 15,
   "id": "d24b9252",
   "metadata": {},
   "outputs": [
    {
     "data": {
      "text/plain": [
       "335"
      ]
     },
     "execution_count": 15,
     "metadata": {},
     "output_type": "execute_result"
    }
   ],
   "source": [
    "len(release_dates) + len(release_date)"
   ]
  },
  {
   "cell_type": "markdown",
   "id": "1567c458",
   "metadata": {},
   "source": [
    "<h2>None of the release date values are missing they either in Release date key or Release dates key</h2>"
   ]
  },
  {
   "cell_type": "code",
   "execution_count": 16,
   "id": "b59e7e2c",
   "metadata": {},
   "outputs": [
    {
     "name": "stdout",
     "output_type": "stream",
     "text": [
      "[['January29,2010'], ['21September2009', 'San Sebastián International Film Festival', '19March2010'], ['November5,2009', 'AFI Film Festival', 'March20,2010'], ['15February2010', '23April2010'], ['April27,2010', 'Hollywood', 'April30,2010'], ['October6,2009', 'Sitges Film Festival', 'June4,2010'], ['17May2010', 'Cannes', '12June2010'], ['July8,2010', 'Odeon Leicester Square', 'July16,2010'], ['16June2010', '20August2010'], ['August27,2010', 'September3,2010'], ['September8,2010', 'Venice', 'September17,2010'], ['September19,2010', \"Grauman's Chinese Theatre\", 'September24,2010', 'September30,2010'], ['September12,2010', 'TIFF', 'October22,2010'], ['October31,2010', 'Night Visions', 'November5,2010'], ['11November2010', 'Odeon Leicester Square', '19November2010'], ['December11,2010', 'Westwood', 'December17,2010'], ['7September2010', 'Venice Film Festival', '17December2010'], ['4September2010', 'Telluride Film Festival', '5November2010', '7January2011'], ['13January2011', 'Santander', '4February2011'], ['January26,2011', 'Hollywood', 'January28,2011'], ['16February2011', 'Westwood', '18February2011', '2March2011', '3March2011', '4March2011'], ['4March2011', '26July2011'], ['March7,2011', 'March11,2011'], ['April2011', 'May6,2011'], ['May19,2011', 'TCL Chinese Theatre', 'May26,2011'], ['June15,2011', \"Grauman's Chinese Theatre\", 'June17,2011'], ['June30,2011', \"Grauman's Chinese Theatre\", 'July8,2011'], ['7July2011', 'Trafalgar Square', '15July2011'], ['July19,2011', 'New York City', 'July29,2011'], ['August4,2011', 'Fantasia International Film Festival', 'August12,2011']]\n"
     ]
    }
   ],
   "source": [
    "print(release_dates[:30])"
   ]
  },
  {
   "cell_type": "markdown",
   "id": "affd23e9",
   "metadata": {},
   "source": [
    "<h3>We can see that it is very hard to just get the release dates values since they are jumbled together other unnecessary datas but we can get them using regular expression .<br><br>For simplicity we will only get the first match</h3>"
   ]
  },
  {
   "cell_type": "code",
   "execution_count": 17,
   "id": "d69ffcde",
   "metadata": {},
   "outputs": [
    {
     "name": "stdout",
     "output_type": "stream",
     "text": [
      "['7July2011', '15July2011', 'July19,2011', '8 June 2011']\n"
     ]
    }
   ],
   "source": [
    "# lets try to extract the date from smaller scale\n",
    "dates = \"['7July2011', 'Trafalgar Square', '15July2011, July19,2011, '8 June 2011']\"\n",
    "pattern = re.compile(r'(\\d+\\s?[\\w\\s]+|[a-zA-z]+\\d+,?\\d+)')\n",
    "\n",
    "\n",
    "match = re.findall(pattern , dates)\n",
    "print(match)"
   ]
  },
  {
   "cell_type": "markdown",
   "id": "0c758f58",
   "metadata": {},
   "source": [
    "<h3>Our regular expression is ready and through it we can get any dates which are available to us</h3>"
   ]
  },
  {
   "cell_type": "code",
   "execution_count": 18,
   "id": "f2276997",
   "metadata": {},
   "outputs": [
    {
     "name": "stdout",
     "output_type": "stream",
     "text": [
      "['January29,2010', '21September2009', 'November5,2009', '15February2010', 'April27,2010', 'October6,2009', '17May2010', 'July8,2010', '16June2010', 'August27,2010', 'September8,2010', 'September19,2010', 'September12,2010', 'October31,2010', '11November2010', 'December11,2010', '7September2010', '4September2010', '13January2011', 'January26,2011', '16February2011', '4March2011', 'March7,2011', 'April2011', 'May19,2011', 'June15,2011', 'June30,2011', '7July2011', 'July19,2011', 'August4,2011']\n"
     ]
    }
   ],
   "source": [
    "new_dates = []\n",
    "for index, dates in enumerate(release_dates[:30]):\n",
    "    match = re.findall(pattern , str(dates))\n",
    "    new_dates.append(match[0])\n",
    "    \n",
    "print(new_dates)"
   ]
  },
  {
   "cell_type": "code",
   "execution_count": 19,
   "id": "27e5d640",
   "metadata": {},
   "outputs": [
    {
     "data": {
      "text/plain": [
       "'7July2011'"
      ]
     },
     "execution_count": 19,
     "metadata": {},
     "output_type": "execute_result"
    }
   ],
   "source": [
    "# writing a function to make the code clearner\n",
    "\n",
    "def get_new_date(date):\n",
    "    pattern = re.compile(r'(\\d+\\s?[\\w\\s]+|[a-zA-z]+\\d+,?\\d+)')\n",
    "    match = re.findall(pattern, str(date))\n",
    "    \n",
    "    return match[0]\n",
    "\n",
    "get_new_date(\"['7July2011', 'Trafalgar Square', '15July2011, July19,2011, '8 June 2011']\") "
   ]
  },
  {
   "cell_type": "code",
   "execution_count": 20,
   "id": "3e2e7426",
   "metadata": {},
   "outputs": [
    {
     "name": "stdout",
     "output_type": "stream",
     "text": [
      "January15,2010\n",
      "December16,2010\n",
      "December9,2011\n",
      "May1,2013\n",
      "22August2014\n",
      "2September2015\n",
      "25December2016\n",
      "January16,2018\n",
      "July13,2019\n"
     ]
    }
   ],
   "source": [
    "for index, table in enumerate(movie_dataset):\n",
    "    release_date = table.pop('Release dates', \"NAN\") #getting release dates value and deleting key\n",
    "        \n",
    "    if release_date != \"NAN\":\n",
    "        new_release_date = get_new_date(release_date)\n",
    "        table['Release Date'] = new_release_date\n",
    "            \n",
    "    else:\n",
    "        release_dates = table.pop('Release date', \"NAN\")\n",
    "        if release_dates != 'NAN':\n",
    "            new_release_date = get_new_date(release_dates)\n",
    "            table['Release Date'] = new_release_date\n",
    "    if index % 40 == 0:\n",
    "        print(new_release_date)"
   ]
  },
  {
   "cell_type": "code",
   "execution_count": 21,
   "id": "7c029c45",
   "metadata": {},
   "outputs": [
    {
     "data": {
      "text/plain": [
       "{'Title': 'Cats & Dogs:  The Revenge of Kitty Galore',\n",
       " 'Directed by': 'Brad Peyton',\n",
       " 'Screenplay by': ['Ron J. Friedman', 'Steve Bencich'],\n",
       " 'Based on': 'Characters created,by,John Requa,Glenn Ficarra',\n",
       " 'Produced by': ['Andrew Lazar', 'Polly Johnsen'],\n",
       " 'Starring': ['Christina Applegate',\n",
       "  'Michael Clarke Duncan',\n",
       "  'Neil Patrick Harris',\n",
       "  'Sean Hayes',\n",
       "  'James Marsden',\n",
       "  'Bette Midler',\n",
       "  'Nick Nolte',\n",
       "  'Joe Pantoliano',\n",
       "  'Katt Williams',\n",
       "  \"Chris O'Donnell\",\n",
       "  'Jack McBrayer',\n",
       "  'Roger Moore',\n",
       "  'Fred Armisen',\n",
       "  'Paul Rodriguez',\n",
       "  'Kiernan Shipka'],\n",
       " 'Cinematography': 'Steven Poster',\n",
       " 'Edited by': 'Julie Rogers',\n",
       " 'Music by': 'Christopher Lennertz',\n",
       " 'Productioncompanies': ['CD2 Pictures',\n",
       "  'Village Roadshow Pictures',\n",
       "  'Mad Chance',\n",
       "  'Polymorphic Pictures'],\n",
       " 'Distributed by': 'Warner Bros. Pictures',\n",
       " 'Countries': ['United States', 'Australia'],\n",
       " 'Language': 'English',\n",
       " 'Budget': '$85 million',\n",
       " 'Box office': '$112.5 million',\n",
       " 'Running Time(min)': '82',\n",
       " 'Release Date': 'July30,2010'}"
      ]
     },
     "execution_count": 21,
     "metadata": {},
     "output_type": "execute_result"
    }
   ],
   "source": [
    "movie_dataset[20]"
   ]
  },
  {
   "cell_type": "markdown",
   "id": "e4ee01b5",
   "metadata": {},
   "source": [
    "<h2>The Date part is now cleaned up </h2>\n",
    "<h3>Now we need to convert <b>Budget and Box office</b> values to numbers in dollars"
   ]
  },
  {
   "cell_type": "code",
   "execution_count": 22,
   "id": "ff9f88bb",
   "metadata": {},
   "outputs": [
    {
     "name": "stdout",
     "output_type": "stream",
     "text": [
      "['$80 million', '$80 million', '$52 million', '$30 million', '', None, None, None, '$30 million', '€5.5m', '$125 million', None, '$25million', '$12 million', '$35 million', '$95 million', '$30 million', None, '$47million', '$160 million', '$85 million', '$14 million', '$17 million', '$17 million', None, '$32 million', '$37 million', '$80 million', '$38 million', '€3 million', '₹7 crore', None, None, '$50 million', '$65 million', None, ['$250 million', 'Part 2'], '(US$790,000)', '$3,000,000', 'US$4 million', None, '$80 million', '€7 million', '$18 million', None, '$37 million', ['€5.65 million'], None, '$30–40million', '$36 million']\n"
     ]
    }
   ],
   "source": [
    "budget = show_info(movie_dataset, 'Budget')\n",
    "print(budget[:50])"
   ]
  },
  {
   "cell_type": "code",
   "execution_count": 23,
   "id": "533b845b",
   "metadata": {},
   "outputs": [
    {
     "data": {
      "text/plain": [
       "236"
      ]
     },
     "execution_count": 23,
     "metadata": {},
     "output_type": "execute_result"
    }
   ],
   "source": [
    "len([value for value in budget if value])"
   ]
  },
  {
   "cell_type": "code",
   "execution_count": 24,
   "id": "ab6bc56e",
   "metadata": {},
   "outputs": [
    {
     "data": {
      "text/plain": [
       "['€5.5m',\n",
       " '₹7 crore',\n",
       " ['$250 million', 'Part 2'],\n",
       " '(US$790,000)',\n",
       " '$3,000,000',\n",
       " ['€5.65 million'],\n",
       " 'US$5,000,000',\n",
       " ['$250 million', 'Part 1'],\n",
       " '€16,000,000 (estimated)',\n",
       " '$100,000',\n",
       " ['$90 million', '$65 million']]"
      ]
     },
     "execution_count": 24,
     "metadata": {},
     "output_type": "execute_result"
    }
   ],
   "source": [
    "# edge cases \n",
    "[value for value in budget if value if 'million' not in value]"
   ]
  },
  {
   "cell_type": "code",
   "execution_count": 25,
   "id": "6deca2cb",
   "metadata": {},
   "outputs": [
    {
     "data": {
      "text/plain": [
       "['€5.5m',\n",
       " '€3 million',\n",
       " '€7 million',\n",
       " '€16,000,000 (estimated)',\n",
       " '€4 million',\n",
       " '€5.5 million',\n",
       " '€4 million',\n",
       " '€10 million',\n",
       " '€4 million($4.5 million)']"
      ]
     },
     "execution_count": 25,
     "metadata": {},
     "output_type": "execute_result"
    }
   ],
   "source": [
    "# edge cases\n",
    "[value for value in budget if value if '€' in value]"
   ]
  },
  {
   "cell_type": "markdown",
   "id": "a0161120",
   "metadata": {},
   "source": [
    "<h3>We can use the regular expression again to get money value</h3>"
   ]
  },
  {
   "cell_type": "markdown",
   "id": "9234b570",
   "metadata": {},
   "source": [
    "<h2>The regular expression pattern is taken from below </h2>"
   ]
  },
  {
   "cell_type": "markdown",
   "id": "a662dc4e",
   "metadata": {},
   "source": [
    "https://dev.to/oursky/regex-for-date-time-and-currency-2apm"
   ]
  },
  {
   "cell_type": "markdown",
   "id": "f6f3fe08",
   "metadata": {},
   "source": [
    "<h3>For convinience sake we will only take budget which is in dollars and assume that all budget has \n",
    "the word million in it</h3>"
   ]
  },
  {
   "cell_type": "code",
   "execution_count": 26,
   "id": "ba219701",
   "metadata": {},
   "outputs": [
    {
     "data": {
      "text/plain": [
       "'$90'"
      ]
     },
     "execution_count": 26,
     "metadata": {},
     "output_type": "execute_result"
    }
   ],
   "source": [
    "def get_currency(budget):\n",
    "\n",
    "    pattern = re.compile(r'\\$?(?:(?:[1-9][0-9]{0,2})(?:,[0-9]{3})+|[1-9][0-9]*|0)(?:[\\.,][0-9][0-9]?)?(?![0-9]+)')\n",
    "    \n",
    "    match = re.findall(pattern, budget)\n",
    "    if match:\n",
    "        return match[0]\n",
    "    else:\n",
    "        return 'NAN'\n",
    "\n",
    "get_currency('[$90 million, $65 million]')"
   ]
  },
  {
   "cell_type": "code",
   "execution_count": 27,
   "id": "55a4ecc7",
   "metadata": {},
   "outputs": [],
   "source": [
    "def convert_to_float(new_budget):\n",
    "    if '$' in new_budget:\n",
    "        new_budget =  new_budget.split('$')[1]\n",
    "    \n",
    "#     if the len of new_budget is >3 than it was already conveted to float\n",
    "    if len(new_budget) <= 6:\n",
    "        return str(float(new_budget) * 1000000)\n",
    "    \n",
    "    return new_budget"
   ]
  },
  {
   "cell_type": "code",
   "execution_count": 28,
   "id": "08b5d7a1",
   "metadata": {},
   "outputs": [],
   "source": [
    "def get_new_budget(budget):\n",
    "    budget_str = str(budget)\n",
    "    if budget_str != \"NAN\" and '$' in budget_str:\n",
    "        currency = get_currency(budget_str)\n",
    "        budget_float = convert_to_float(currency)\n",
    "        return budget_float\n",
    "    \n",
    "    return \"NAN\""
   ]
  },
  {
   "cell_type": "code",
   "execution_count": 29,
   "id": "a138cfb1",
   "metadata": {},
   "outputs": [
    {
     "name": "stdout",
     "output_type": "stream",
     "text": [
      "37000000.0\n",
      "57000000.0\n",
      "191000000.0\n",
      "22500000.0\n",
      "50000000.0\n",
      "150000000.0\n",
      "80000000.0\n",
      "The budget avalable:  226\n"
     ]
    }
   ],
   "source": [
    "count = 0\n",
    "for table in movie_dataset:\n",
    "    budget = table.get('Budget', \"NAN\") \n",
    "    budget_str = str(budget)\n",
    "    if budget_str != \"NAN\" and '$' in budget_str:\n",
    "        new_budget = get_currency(budget_str)\n",
    "        budget_float = convert_to_float(new_budget)\n",
    "        count += 1\n",
    "            \n",
    "        if count % 30 == 0:\n",
    "             print(budget_float)\n",
    "print('The budget avalable: ', count)       "
   ]
  },
  {
   "cell_type": "markdown",
   "id": "7e7a16b4",
   "metadata": {},
   "source": [
    "<h3>Removing the previous budget and the new one</h3>"
   ]
  },
  {
   "cell_type": "code",
   "execution_count": 30,
   "id": "81476814",
   "metadata": {},
   "outputs": [
    {
     "name": "stdout",
     "output_type": "stream",
     "text": [
      "80000000.0\n",
      "NAN\n",
      "NAN\n",
      "NAN\n",
      "105000000.0\n",
      "40000000.0\n",
      "40000000.0\n",
      "38000000.0\n",
      "NAN\n",
      "NAN\n",
      "200000000.0\n",
      "NAN\n"
     ]
    }
   ],
   "source": [
    "for index, table in enumerate(movie_dataset):\n",
    "    budget = table.pop('Budget', \"NAN\") \n",
    "    new_budget = get_new_budget(budget)\n",
    "        \n",
    "    table[\"Budget(dollar)\"] = new_budget\n",
    "        \n",
    "    if index % 30 == 0:\n",
    "            print(new_budget)    "
   ]
  },
  {
   "cell_type": "code",
   "execution_count": 31,
   "id": "9fac1a2d",
   "metadata": {},
   "outputs": [
    {
     "data": {
      "text/plain": [
       "{'Title': 'Going the Distance',\n",
       " 'Directed by': 'Nanette Burstein',\n",
       " 'Written by': 'Geoff LaTulippe',\n",
       " 'Produced by': ['Adam Shankman', 'Jennifer Gibgot', 'Garrett Grant'],\n",
       " 'Starring': ['Drew Barrymore',\n",
       "  'Justin Long',\n",
       "  'Charlie Day',\n",
       "  'Jason Sudeikis',\n",
       "  'Christina Applegate'],\n",
       " 'Cinematography': 'Eric Steelberg',\n",
       " 'Edited by': 'Peter Teschner',\n",
       " 'Music by': 'Mychael Danna',\n",
       " 'Productioncompanies': ['New Line Cinema', 'Offspring Entertainment'],\n",
       " 'Distributed by': 'Warner Bros. Pictures',\n",
       " 'Country': 'United States',\n",
       " 'Language': 'English',\n",
       " 'Box office': '$42.1 million',\n",
       " 'Running Time(min)': '102',\n",
       " 'Release Date': 'August27,2010',\n",
       " 'Budget(dollar)': '32000000.0'}"
      ]
     },
     "execution_count": 31,
     "metadata": {},
     "output_type": "execute_result"
    }
   ],
   "source": [
    "movie_dataset[25]"
   ]
  },
  {
   "cell_type": "markdown",
   "id": "98e897c8",
   "metadata": {},
   "source": [
    "<h3>Now lets do the same Box office values</h3>"
   ]
  },
  {
   "cell_type": "code",
   "execution_count": 32,
   "id": "3adc8627",
   "metadata": {},
   "outputs": [
    {
     "name": "stdout",
     "output_type": "stream",
     "text": [
      "['$157.1 million', '$81.1 million', '$216.5 million', '$55.6 million', '', '$73.6 million', None, None, '$1.7 million', None, '$493.2 million', None, '$29.9million', '$6.9 million', '$117.7 million', '$294.6 million', '$27.1 million', '', '$11million', '$836.8 million', '$112.5 million', '$4.3 million', '$24.7 million', '$6 million', None, '$42.1 million', '$154 million', '$140.1 million', '$105.7 million', '$5.827 million']\n"
     ]
    }
   ],
   "source": [
    "box_office = show_info(movie_dataset, 'Box office')\n",
    "print(box_office[:30])"
   ]
  },
  {
   "cell_type": "code",
   "execution_count": 33,
   "id": "cc8e6483",
   "metadata": {},
   "outputs": [
    {
     "data": {
      "text/plain": [
       "275"
      ]
     },
     "execution_count": 33,
     "metadata": {},
     "output_type": "execute_result"
    }
   ],
   "source": [
    "len([value for value in box_office if value])"
   ]
  },
  {
   "cell_type": "code",
   "execution_count": 34,
   "id": "b0460772",
   "metadata": {},
   "outputs": [
    {
     "data": {
      "text/plain": [
       "['₹0.98 crore',\n",
       " '€9,881,471',\n",
       " 'US$12,160,978',\n",
       " 'US$4,711,624',\n",
       " 'US$4,156,398',\n",
       " '$41,644,475',\n",
       " '$1.342 billion',\n",
       " '$1.081 billion',\n",
       " '$1.017 billion',\n",
       " '₺72.103.216,88',\n",
       " '$615,500',\n",
       " '$74,709',\n",
       " '$310,273',\n",
       " '$3,532,967',\n",
       " '$11,757,642',\n",
       " '()',\n",
       " '$9,193,243',\n",
       " '$4,382',\n",
       " '¥493,052,600()',\n",
       " '$138,844',\n",
       " '$1.148 billion',\n",
       " '$603,434',\n",
       " '$623,088',\n",
       " '$1.074 billion',\n",
       " '$50,820']"
      ]
     },
     "execution_count": 34,
     "metadata": {},
     "output_type": "execute_result"
    }
   ],
   "source": [
    "# edget cases we need to consider\n",
    "[value for value in box_office if value if 'million' not in str(value)]"
   ]
  },
  {
   "cell_type": "code",
   "execution_count": 35,
   "id": "d22ec786",
   "metadata": {},
   "outputs": [
    {
     "data": {
      "text/plain": [
       "['€9,881,471', '€4.9 million ($5.5 million)', '€10.1 million']"
      ]
     },
     "execution_count": 35,
     "metadata": {},
     "output_type": "execute_result"
    }
   ],
   "source": [
    "# edget cases \n",
    "[value for value in  box_office if '€' in str(value)]"
   ]
  },
  {
   "cell_type": "markdown",
   "id": "df608866",
   "metadata": {},
   "source": [
    "<h3>The code for box office value would almost same as the budget</h3>"
   ]
  },
  {
   "cell_type": "code",
   "execution_count": 36,
   "id": "6a322d09",
   "metadata": {},
   "outputs": [],
   "source": [
    "def convert_to_float(new_box_office, has_billion):\n",
    "    if '$' in new_box_office:\n",
    "        new_box_office =  new_box_office.split('$')[1]\n",
    "    \n",
    "    if len(new_box_office) <= 5 and has_billion == False:\n",
    "        return str(float(new_box_office) * 1000000)\n",
    "    \n",
    "    elif len(new_box_office) <= 5 and has_billion == True:\n",
    "        return str(float(new_box_office) * 1000000000)\n",
    "    \n",
    "    return new_box_office\n",
    "\n",
    "def get_currency(box_office):\n",
    "\n",
    "    pattern = re.compile(r'\\$?(?:(?:[1-9][0-9]{0,2})(?:,[0-9]{3})+|[1-9][0-9]*|0)(?:[\\.,][0-9][0-9]?)?(?![0-9]+)')\n",
    "    \n",
    "    match = re.findall(pattern, box_office)\n",
    "    if match:\n",
    "        return match[0]\n",
    "    else:\n",
    "        return 'NAN'\n",
    "\n",
    "\n",
    "def get_new_box_office(box_office_str, has_billion):\n",
    "    try:\n",
    "        if box_office_str != \"NAN\" and '$' in box_office_str:\n",
    "            currency = get_currency(box_office_str)\n",
    "            box_office_float = convert_to_float(currency, has_billion)\n",
    "            return box_office_float\n",
    "    except:\n",
    "        return \"NAN\"\n",
    "    \n",
    "    return \"NAN\""
   ]
  },
  {
   "cell_type": "code",
   "execution_count": 37,
   "id": "9d5067be",
   "metadata": {},
   "outputs": [
    {
     "name": "stdout",
     "output_type": "stream",
     "text": [
      "157100000.0\n",
      "4,711,624\n",
      "49000000.0\n",
      "128000000.0\n",
      "3,532,967\n",
      "17800000.0\n",
      "654900000.0\n"
     ]
    }
   ],
   "source": [
    "for index, table in enumerate(movie_dataset):\n",
    "    has_billion=False\n",
    "    \n",
    "    box_office = table.pop('Box office', \"NAN\")\n",
    "    box_office_str = str(box_office)\n",
    "    if 'billion' in box_office_str:\n",
    "        has_billion=True\n",
    "            \n",
    "    new_box_office = get_new_box_office(box_office_str, has_billion)\n",
    "    table[\"box_office(dollar)\"] = new_box_office\n",
    "        \n",
    "    if index % 50 == 0:\n",
    "        print(new_box_office)  "
   ]
  },
  {
   "cell_type": "code",
   "execution_count": 38,
   "id": "6a6d6a9a",
   "metadata": {},
   "outputs": [
    {
     "data": {
      "text/plain": [
       "{'Title': 'Jonah Hex',\n",
       " 'Directed by': 'Jimmy Hayward',\n",
       " 'Screenplay by': 'Neveldine & Taylor',\n",
       " 'Story by': ['William Farmer', 'Neveldine & Taylor'],\n",
       " 'Based on': 'Jonah Hex,by,John Albano,Tony DeZuniga',\n",
       " 'Produced by': ['Akiva Goldsman', 'Andrew Lazar'],\n",
       " 'Starring': ['Josh Brolin',\n",
       "  'John Malkovich',\n",
       "  'Megan Fox',\n",
       "  'Michael Fassbender',\n",
       "  'Will Arnett',\n",
       "  'Michael Shannon'],\n",
       " 'Cinematography': 'Mitchell Amundsen',\n",
       " 'Edited by': ['Fernando Villena', 'Tom Lewis'],\n",
       " 'Music by': ['Marco Beltrami', 'Mastodon'],\n",
       " 'Productioncompanies': ['Legendary Pictures',\n",
       "  'DC Entertainment',\n",
       "  'Weed Road Pictures',\n",
       "  'Mad Chance Productions'],\n",
       " 'Distributed by': 'Warner Bros. Pictures',\n",
       " 'Country': 'United States',\n",
       " 'Language': 'English',\n",
       " 'Running Time(min)': '81',\n",
       " 'Release Date': 'June18,2010',\n",
       " 'Budget(dollar)': '47000000.0',\n",
       " 'box_office(dollar)': '11000000.0'}"
      ]
     },
     "execution_count": 38,
     "metadata": {},
     "output_type": "execute_result"
    }
   ],
   "source": [
    "movie_dataset[18]"
   ]
  },
  {
   "cell_type": "code",
   "execution_count": 39,
   "id": "6bccf2d2",
   "metadata": {},
   "outputs": [],
   "source": [
    "# LETS SAVE THE MODEL TO A NEW JSON FILE\n",
    "with open('./files/movie_dataset(cleaned).json', \"w\", encoding='utf-8') as file:\n",
    "    json.dump(movie_dataset, file, ensure_ascii=False, indent=4)"
   ]
  },
  {
   "cell_type": "code",
   "execution_count": 40,
   "id": "a535e6ac",
   "metadata": {},
   "outputs": [
    {
     "data": {
      "text/plain": [
       "335"
      ]
     },
     "execution_count": 40,
     "metadata": {},
     "output_type": "execute_result"
    }
   ],
   "source": [
    "with open('./files/movie_dataset(cleaned).json', 'r', encoding='utf-8') as file:\n",
    "    movie_dataset = json.load(file)\n",
    "\n",
    "len(movie_dataset)"
   ]
  }
 ],
 "metadata": {
  "kernelspec": {
   "display_name": "Python 3 (ipykernel)",
   "language": "python",
   "name": "python3"
  },
  "language_info": {
   "codemirror_mode": {
    "name": "ipython",
    "version": 3
   },
   "file_extension": ".py",
   "mimetype": "text/x-python",
   "name": "python",
   "nbconvert_exporter": "python",
   "pygments_lexer": "ipython3",
   "version": "3.9.12"
  }
 },
 "nbformat": 4,
 "nbformat_minor": 5
}
