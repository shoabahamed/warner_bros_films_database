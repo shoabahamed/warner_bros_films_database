{
 "cells": [
  {
   "cell_type": "markdown",
   "id": "653bb4d9",
   "metadata": {},
   "source": [
    "<h3>Importing necessary modules</h3>"
   ]
  },
  {
   "cell_type": "code",
   "execution_count": 1,
   "id": "3e7d0f53",
   "metadata": {},
   "outputs": [],
   "source": [
    "import json\n",
    "import re"
   ]
  },
  {
   "cell_type": "code",
   "execution_count": 4,
   "id": "b099be85",
   "metadata": {},
   "outputs": [
    {
     "data": {
      "text/plain": [
       "335"
      ]
     },
     "execution_count": 4,
     "metadata": {},
     "output_type": "execute_result"
    }
   ],
   "source": [
    "with open('./files/movie_dataset.json', 'r', encoding='utf-8') as file:\n",
    "    movie_dataset = json.load(file)\n",
    "\n",
    "len(movie_dataset)"
   ]
  },
  {
   "cell_type": "code",
   "execution_count": 7,
   "id": "a7dc3b12",
   "metadata": {},
   "outputs": [
    {
     "data": {
      "text/plain": [
       "{'The_Conjuring': {'Title': 'The Conjuring',\n",
       "  'Directed by': 'James Wan',\n",
       "  'Written by': ['Chad Hayes', 'Carey W. Hayes'],\n",
       "  'Produced by': ['Tony DeRosa-Grund', 'Peter Safran', 'Rob Cowan'],\n",
       "  'Starring': ['Vera Farmiga',\n",
       "   'Patrick Wilson',\n",
       "   'Ron Livingston',\n",
       "   'Lili Taylor'],\n",
       "  'Cinematography': 'John R. Leonetti',\n",
       "  'Edited by': 'Kirk Morri',\n",
       "  'Music by': 'Joseph Bishara',\n",
       "  'Productioncompanies': ['New Line Cinema',\n",
       "   'The Safran Company',\n",
       "   'Evergreen Media Group'],\n",
       "  'Distributed by': 'Warner Bros. Pictures',\n",
       "  'Release dates': ['July15,2013', 'Cinerama Dome', 'July19,2013'],\n",
       "  'Running time': '112 minutes',\n",
       "  'Country': 'United States',\n",
       "  'Language': 'English',\n",
       "  'Budget': '$20million',\n",
       "  'Box office': '$319.5million'}}"
      ]
     },
     "execution_count": 7,
     "metadata": {},
     "output_type": "execute_result"
    }
   ],
   "source": [
    "movie_dataset[125]"
   ]
  }
 ],
 "metadata": {
  "kernelspec": {
   "display_name": "Python 3 (ipykernel)",
   "language": "python",
   "name": "python3"
  },
  "language_info": {
   "codemirror_mode": {
    "name": "ipython",
    "version": 3
   },
   "file_extension": ".py",
   "mimetype": "text/x-python",
   "name": "python",
   "nbconvert_exporter": "python",
   "pygments_lexer": "ipython3",
   "version": "3.9.12"
  }
 },
 "nbformat": 4,
 "nbformat_minor": 5
}
